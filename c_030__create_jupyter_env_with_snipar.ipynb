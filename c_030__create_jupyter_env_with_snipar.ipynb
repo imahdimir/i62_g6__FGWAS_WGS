{
 "metadata": {
  "language_info": {
   "name": "bash",
   "codemirror_mode": "shell",
   "mimetype": "text/x-sh",
   "file_extension": ".sh"
  },
  "kernelspec": {
   "name": "bash",
   "display_name": "Bash",
   "language": "bash"
  }
 },
 "nbformat_minor": 4,
 "nbformat": 4,
 "cells": [
  {
   "cell_type": "markdown",
   "source": "Kernel: Bash",
   "metadata": {}
  },
  {
   "cell_type": "code",
   "source": "pwd",
   "metadata": {
    "trusted": true,
    "tags": []
   },
   "execution_count": 2,
   "outputs": [
    {
     "name": "stdout",
     "text": "/opt/notebooks\n",
     "output_type": "stream"
    }
   ]
  },
  {
   "cell_type": "code",
   "source": "NB_WD=$PWD\necho $NB_WD",
   "metadata": {
    "trusted": true,
    "tags": []
   },
   "execution_count": 3,
   "outputs": [
    {
     "name": "stdout",
     "text": "/opt/notebooks\n",
     "output_type": "stream"
    }
   ]
  },
  {
   "cell_type": "code",
   "source": "pip install snipar",
   "metadata": {
    "trusted": true,
    "tags": []
   },
   "execution_count": 4,
   "outputs": [
    {
     "name": "stdout",
     "text": "\u001B[33mWARNING: The directory '/home/dnanexus/.cache/pip' or its parent directory is not owned or is not writable by the current user. The cache has been disabled. Check the permissions and owner of that directory. If executing pip with sudo, you should use sudo's -H flag.\u001B[0m\u001B[33m\n\u001B[0m\u001B[31mERROR: Could not find a version that satisfies the requirement snipar (from versions: none)\u001B[0m\u001B[31m\n\u001B[0m\u001B[31mERROR: No matching distribution found for snipar\u001B[0m\u001B[31m\n\u001B[0m\n",
     "output_type": "stream"
    },
    {
     "ename": "",
     "evalue": "1",
     "traceback": [],
     "output_type": "error"
    }
   ]
  },
  {
   "cell_type": "markdown",
   "source": "- Snipar can't be installed using pip, although the docs says the internet access on jupyterlab notebooks is unrestricted, but in practice it is not",
   "metadata": {}
  },
  {
   "cell_type": "code",
   "source": "# is conda installed? yes\nconda -V",
   "metadata": {
    "trusted": true,
    "tags": []
   },
   "execution_count": 5,
   "outputs": [
    {
     "name": "stdout",
     "text": "conda 25.5.1\n",
     "output_type": "stream"
    }
   ]
  },
  {
   "cell_type": "markdown",
   "source": "# Install Snipar from Source",
   "metadata": {}
  },
  {
   "cell_type": "code",
   "source": "git clone https://github.com/AlexTISYoung/snipar",
   "metadata": {
    "trusted": true,
    "tags": []
   },
   "execution_count": 10,
   "outputs": [
    {
     "name": "stdout",
     "text": "Cloning into 'snipar'...\nremote: Enumerating objects: 22481, done.        \nremote: Counting objects: 100% (268/268), done.        \nremote: Compressing objects: 100% (162/162), done.        \nremote: Total 22481 (delta 178), reused 155 (delta 102), pack-reused 22213 (from 2)        \nReceiving objects: 100% (22481/22481), 285.25 MiB | 28.13 MiB/s, done.\nResolving deltas: 100% (6396/6396), done.\n",
     "output_type": "stream"
    }
   ]
  },
  {
   "cell_type": "code",
   "source": "pip install --upgrade pip",
   "metadata": {
    "trusted": true,
    "tags": []
   },
   "execution_count": null,
   "outputs": [
    {
     "name": "stdout",
     "text": "\u001B[33mWARNING: The directory '/home/dnanexus/.cache/pip' or its parent directory is not owned or is not writable by the current user. The cache has been disabled. Check the permissions and owner of that directory. If executing pip with sudo, you should use sudo's -H flag.\u001B[0m\u001B[33m\n\u001B[0mRequirement already satisfied: pip in /opt/conda/lib/python3.12/site-packages (25.1.1)\n\u001B[33mWARNING: Running pip as the 'root' user can result in broken permissions and conflicting behaviour with the system package manager, possibly rendering your system unusable. It is recommended to use a virtual environment instead: https://pip.pypa.io/warnings/venv. Use the --root-user-action option if you know what you are doing and want to suppress this warning.\u001B[0m\u001B[33m\n\u001B[0m\n",
     "output_type": "stream"
    }
   ]
  },
  {
   "cell_type": "code",
   "source": "cd $NB_WD/snipar\nls",
   "metadata": {
    "trusted": true,
    "tags": []
   },
   "execution_count": 5,
   "outputs": [
    {
     "name": "stdout",
     "text": "LICENSE      README.md\t  docs\t   pyproject.toml  setup.py\nMANIFEST.in  _config.yml  outputs  setup.cfg\t   snipar\n",
     "output_type": "stream"
    }
   ]
  },
  {
   "cell_type": "code",
   "source": "pip install .",
   "metadata": {
    "trusted": true,
    "tags": []
   },
   "execution_count": 6,
   "outputs": [
    {
     "name": "stdout",
     "text": "Processing /opt/notebooks/snipar\n  Installing build dependencies ... \u001B[?25lerror\n  \u001B[1;31merror\u001B[0m: \u001B[1msubprocess-exited-with-error\u001B[0m\n  \n  \u001B[31m×\u001B[0m \u001B[32mpip subprocess to install build dependencies\u001B[0m did not run successfully.\n  \u001B[31m│\u001B[0m exit code: \u001B[1;36m2\u001B[0m\n  \u001B[31m╰─>\u001B[0m \u001B[31m[90 lines of output]\u001B[0m\n  \u001B[31m   \u001B[0m Collecting setuptools>=61\n  \u001B[31m   \u001B[0m   Downloading setuptools-80.9.0-py3-none-any.whl.metadata (6.6 kB)\n  \u001B[31m   \u001B[0m Collecting wheel\n  \u001B[31m   \u001B[0m   Downloading wheel-0.45.1-py3-none-any.whl.metadata (2.3 kB)\n  \u001B[31m   \u001B[0m Collecting numpy==1.21.1\n  \u001B[31m   \u001B[0m   Downloading numpy-1.21.1.zip (10.3 MB)\n  \u001B[31m   \u001B[0m      ━━━━━━━━━━━━━━━━━━━━━━━━━━━━━━━━━━━━━━━ 10.3/10.3 MB 108.3 MB/s eta 0:00:00\n  \u001B[31m   \u001B[0m   Installing build dependencies: started\n  \u001B[31m   \u001B[0m   Installing build dependencies: finished with status 'done'\n  \u001B[31m   \u001B[0m   Getting requirements to build wheel: started\n  \u001B[31m   \u001B[0m   Getting requirements to build wheel: finished with status 'done'\n  \u001B[31m   \u001B[0m ERROR: Exception:\n  \u001B[31m   \u001B[0m Traceback (most recent call last):\n  \u001B[31m   \u001B[0m   File \"/opt/conda/lib/python3.12/site-packages/pip/_internal/cli/base_command.py\", line 105, in _run_wrapper\n  \u001B[31m   \u001B[0m     status = _inner_run()\n  \u001B[31m   \u001B[0m              ^^^^^^^^^^^^\n  \u001B[31m   \u001B[0m   File \"/opt/conda/lib/python3.12/site-packages/pip/_internal/cli/base_command.py\", line 96, in _inner_run\n  \u001B[31m   \u001B[0m     return self.run(options, args)\n  \u001B[31m   \u001B[0m            ^^^^^^^^^^^^^^^^^^^^^^^\n  \u001B[31m   \u001B[0m   File \"/opt/conda/lib/python3.12/site-packages/pip/_internal/cli/req_command.py\", line 68, in wrapper\n  \u001B[31m   \u001B[0m     return func(self, options, args)\n  \u001B[31m   \u001B[0m            ^^^^^^^^^^^^^^^^^^^^^^^^^\n  \u001B[31m   \u001B[0m   File \"/opt/conda/lib/python3.12/site-packages/pip/_internal/commands/install.py\", line 387, in run\n  \u001B[31m   \u001B[0m     requirement_set = resolver.resolve(\n  \u001B[31m   \u001B[0m                       ^^^^^^^^^^^^^^^^^\n  \u001B[31m   \u001B[0m   File \"/opt/conda/lib/python3.12/site-packages/pip/_internal/resolution/resolvelib/resolver.py\", line 96, in resolve\n  \u001B[31m   \u001B[0m     result = self._result = resolver.resolve(\n  \u001B[31m   \u001B[0m                             ^^^^^^^^^^^^^^^^^\n  \u001B[31m   \u001B[0m   File \"/opt/conda/lib/python3.12/site-packages/pip/_vendor/resolvelib/resolvers/resolution.py\", line 515, in resolve\n  \u001B[31m   \u001B[0m     state = resolution.resolve(requirements, max_rounds=max_rounds)\n  \u001B[31m   \u001B[0m             ^^^^^^^^^^^^^^^^^^^^^^^^^^^^^^^^^^^^^^^^^^^^^^^^^^^^^^^\n  \u001B[31m   \u001B[0m   File \"/opt/conda/lib/python3.12/site-packages/pip/_vendor/resolvelib/resolvers/resolution.py\", line 388, in resolve\n  \u001B[31m   \u001B[0m     self._add_to_criteria(self.state.criteria, r, parent=None)\n  \u001B[31m   \u001B[0m   File \"/opt/conda/lib/python3.12/site-packages/pip/_vendor/resolvelib/resolvers/resolution.py\", line 141, in _add_to_criteria\n  \u001B[31m   \u001B[0m     if not criterion.candidates:\n  \u001B[31m   \u001B[0m            ^^^^^^^^^^^^^^^^^^^^\n  \u001B[31m   \u001B[0m   File \"/opt/conda/lib/python3.12/site-packages/pip/_vendor/resolvelib/structs.py\", line 194, in __bool__\n  \u001B[31m   \u001B[0m     return bool(self._sequence)\n  \u001B[31m   \u001B[0m            ^^^^^^^^^^^^^^^^^^^^\n  \u001B[31m   \u001B[0m   File \"/opt/conda/lib/python3.12/site-packages/pip/_internal/resolution/resolvelib/found_candidates.py\", line 163, in __bool__\n  \u001B[31m   \u001B[0m     self._bool = any(self)\n  \u001B[31m   \u001B[0m                  ^^^^^^^^^\n  \u001B[31m   \u001B[0m   File \"/opt/conda/lib/python3.12/site-packages/pip/_internal/resolution/resolvelib/found_candidates.py\", line 147, in <genexpr>\n  \u001B[31m   \u001B[0m     return (c for c in iterator if id(c) not in self._incompatible_ids)\n  \u001B[31m   \u001B[0m                        ^^^^^^^^\n  \u001B[31m   \u001B[0m   File \"/opt/conda/lib/python3.12/site-packages/pip/_internal/resolution/resolvelib/found_candidates.py\", line 37, in _iter_built\n  \u001B[31m   \u001B[0m     candidate = func()\n  \u001B[31m   \u001B[0m                 ^^^^^^\n  \u001B[31m   \u001B[0m   File \"/opt/conda/lib/python3.12/site-packages/pip/_internal/resolution/resolvelib/factory.py\", line 187, in _make_candidate_from_link\n  \u001B[31m   \u001B[0m     base: Optional[BaseCandidate] = self._make_base_candidate_from_link(\n  \u001B[31m   \u001B[0m                                     ^^^^^^^^^^^^^^^^^^^^^^^^^^^^^^^^^^^^\n  \u001B[31m   \u001B[0m   File \"/opt/conda/lib/python3.12/site-packages/pip/_internal/resolution/resolvelib/factory.py\", line 233, in _make_base_candidate_from_link\n  \u001B[31m   \u001B[0m     self._link_candidate_cache[link] = LinkCandidate(\n  \u001B[31m   \u001B[0m                                        ^^^^^^^^^^^^^^\n  \u001B[31m   \u001B[0m   File \"/opt/conda/lib/python3.12/site-packages/pip/_internal/resolution/resolvelib/candidates.py\", line 306, in __init__\n  \u001B[31m   \u001B[0m     super().__init__(\n  \u001B[31m   \u001B[0m   File \"/opt/conda/lib/python3.12/site-packages/pip/_internal/resolution/resolvelib/candidates.py\", line 159, in __init__\n  \u001B[31m   \u001B[0m     self.dist = self._prepare()\n  \u001B[31m   \u001B[0m                 ^^^^^^^^^^^^^^^\n  \u001B[31m   \u001B[0m   File \"/opt/conda/lib/python3.12/site-packages/pip/_internal/resolution/resolvelib/candidates.py\", line 236, in _prepare\n  \u001B[31m   \u001B[0m     dist = self._prepare_distribution()\n  \u001B[31m   \u001B[0m            ^^^^^^^^^^^^^^^^^^^^^^^^^^^^\n  \u001B[31m   \u001B[0m   File \"/opt/conda/lib/python3.12/site-packages/pip/_internal/resolution/resolvelib/candidates.py\", line 317, in _prepare_distribution\n  \u001B[31m   \u001B[0m     return preparer.prepare_linked_requirement(self._ireq, parallel_builds=True)\n  \u001B[31m   \u001B[0m            ^^^^^^^^^^^^^^^^^^^^^^^^^^^^^^^^^^^^^^^^^^^^^^^^^^^^^^^^^^^^^^^^^^^^^\n  \u001B[31m   \u001B[0m   File \"/opt/conda/lib/python3.12/site-packages/pip/_internal/operations/prepare.py\", line 532, in prepare_linked_requirement\n  \u001B[31m   \u001B[0m     return self._prepare_linked_requirement(req, parallel_builds)\n  \u001B[31m   \u001B[0m            ^^^^^^^^^^^^^^^^^^^^^^^^^^^^^^^^^^^^^^^^^^^^^^^^^^^^^^\n  \u001B[31m   \u001B[0m   File \"/opt/conda/lib/python3.12/site-packages/pip/_internal/operations/prepare.py\", line 647, in _prepare_linked_requirement\n  \u001B[31m   \u001B[0m     dist = _get_prepared_distribution(\n  \u001B[31m   \u001B[0m            ^^^^^^^^^^^^^^^^^^^^^^^^^^^\n  \u001B[31m   \u001B[0m   File \"/opt/conda/lib/python3.12/site-packages/pip/_internal/operations/prepare.py\", line 71, in _get_prepared_distribution\n  \u001B[31m   \u001B[0m     abstract_dist.prepare_distribution_metadata(\n  \u001B[31m   \u001B[0m   File \"/opt/conda/lib/python3.12/site-packages/pip/_internal/distributions/sdist.py\", line 56, in prepare_distribution_metadata\n  \u001B[31m   \u001B[0m     self._install_build_reqs(finder)\n  \u001B[31m   \u001B[0m   File \"/opt/conda/lib/python3.12/site-packages/pip/_internal/distributions/sdist.py\", line 126, in _install_build_reqs\n  \u001B[31m   \u001B[0m     build_reqs = self._get_build_requires_wheel()\n  \u001B[31m   \u001B[0m                  ^^^^^^^^^^^^^^^^^^^^^^^^^^^^^^^^\n  \u001B[31m   \u001B[0m   File \"/opt/conda/lib/python3.12/site-packages/pip/_internal/distributions/sdist.py\", line 103, in _get_build_requires_wheel\n  \u001B[31m   \u001B[0m     return backend.get_requires_for_build_wheel()\n  \u001B[31m   \u001B[0m            ^^^^^^^^^^^^^^^^^^^^^^^^^^^^^^^^^^^^^^\n  \u001B[31m   \u001B[0m   File \"/opt/conda/lib/python3.12/site-packages/pip/_internal/utils/misc.py\", line 702, in get_requires_for_build_wheel\n  \u001B[31m   \u001B[0m     return super().get_requires_for_build_wheel(config_settings=cs)\n  \u001B[31m   \u001B[0m            ^^^^^^^^^^^^^^^^^^^^^^^^^^^^^^^^^^^^^^^^^^^^^^^^^^^^^^^^\n  \u001B[31m   \u001B[0m   File \"/opt/conda/lib/python3.12/site-packages/pip/_vendor/pyproject_hooks/_impl.py\", line 196, in get_requires_for_build_wheel\n  \u001B[31m   \u001B[0m     return self._call_hook(\n  \u001B[31m   \u001B[0m            ^^^^^^^^^^^^^^^^\n  \u001B[31m   \u001B[0m   File \"/opt/conda/lib/python3.12/site-packages/pip/_vendor/pyproject_hooks/_impl.py\", line 402, in _call_hook\n  \u001B[31m   \u001B[0m     raise BackendUnavailable(\n  \u001B[31m   \u001B[0m pip._vendor.pyproject_hooks._impl.BackendUnavailable: Cannot import 'setuptools.build_meta'\n  \u001B[31m   \u001B[0m \u001B[31m[end of output]\u001B[0m\n  \n  \u001B[1;35mnote\u001B[0m: This error originates from a subprocess, and is likely not a problem with pip.\n\u001B[1;31merror\u001B[0m: \u001B[1msubprocess-exited-with-error\u001B[0m\n\n\u001B[31m×\u001B[0m \u001B[32mpip subprocess to install build dependencies\u001B[0m did not run successfully.\n\u001B[31m│\u001B[0m exit code: \u001B[1;36m2\u001B[0m\n\u001B[31m╰─>\u001B[0m See above for output.\n\n\u001B[1;35mnote\u001B[0m: This error originates from a subprocess, and is likely not a problem with pip.\n\u001B[?25h\n",
     "output_type": "stream"
    },
    {
     "ename": "",
     "evalue": "1",
     "traceback": [],
     "output_type": "error"
    }
   ]
  },
  {
   "cell_type": "code",
   "source": "conda env list",
   "metadata": {
    "trusted": true,
    "tags": []
   },
   "execution_count": 7,
   "outputs": [
    {
     "name": "stdout",
     "text": "\n# conda environments:\n#\nbase                 * /opt/conda\n\n",
     "output_type": "stream"
    }
   ]
  },
  {
   "cell_type": "code",
   "source": "# Install Python 3.9 environment (snipar requires Python 3.9)\nconda create -n py39 python=3.9 -y",
   "metadata": {
    "trusted": true,
    "tags": [],
    "collapsed": true,
    "jupyter": {
     "outputs_hidden": true
    }
   },
   "execution_count": 8,
   "outputs": [
    {
     "name": "stdout",
     "text": "Channels:\n - defaults\nPlatform: linux-64\nCollecting package metadata (repodata.json): done\nSolving environment: done\n\n## Package Plan ##\n\n  environment location: /opt/conda/envs/py39\n\n  added / updated specs:\n    - python=3.9\n\n\nThe following packages will be downloaded:\n\n    package                    |            build\n    ---------------------------|-----------------\n    _libgcc_mutex-0.1          |             main           3 KB\n    _openmp_mutex-5.1          |            1_gnu          21 KB\n    bzip2-1.0.8                |       h5eee18b_6         262 KB\n    ca-certificates-2025.2.25  |       h06a4308_0         129 KB\n    expat-2.7.1                |       h6a678d5_0         182 KB\n    ld_impl_linux-64-2.40      |       h12ee557_0         710 KB\n    libffi-3.4.4               |       h6a678d5_1         141 KB\n    libgcc-ng-11.2.0           |       h1234567_1         5.3 MB\n    libgomp-11.2.0             |       h1234567_1         474 KB\n    libstdcxx-ng-11.2.0        |       h1234567_1         4.7 MB\n    libxcb-1.17.0              |       h9b100fa_0         430 KB\n    ncurses-6.4                |       h6a678d5_0         914 KB\n    openssl-3.0.16             |       h5eee18b_0         5.2 MB\n    pip-25.1                   |     pyhc872135_2         1.3 MB\n    pthread-stubs-0.3          |       h0ce48e5_1           5 KB\n    python-3.9.23              |       he99959a_0        24.7 MB\n    readline-8.2               |       h5eee18b_0         357 KB\n    setuptools-78.1.1          |   py39h06a4308_0         1.7 MB\n    sqlite-3.50.2              |       hb25bd0a_1         1.1 MB\n    tk-8.6.14                  |       h993c535_1         3.4 MB\n    tzdata-2025b               |       h04d1e81_0         116 KB\n    wheel-0.45.1               |   py39h06a4308_0         114 KB\n    xorg-libx11-1.8.12         |       h9b100fa_1         895 KB\n    xorg-libxau-1.0.12         |       h9b100fa_0          13 KB\n    xorg-libxdmcp-1.1.5        |       h9b100fa_0          19 KB\n    xorg-xorgproto-2024.1      |       h5eee18b_1         580 KB\n    xz-5.6.4                   |       h5eee18b_1         567 KB\n    zlib-1.2.13                |       h5eee18b_1         111 KB\n    ------------------------------------------------------------\n                                           Total:        53.4 MB\n\nThe following NEW packages will be INSTALLED:\n\n  _libgcc_mutex      pkgs/main/linux-64::_libgcc_mutex-0.1-main \n  _openmp_mutex      pkgs/main/linux-64::_openmp_mutex-5.1-1_gnu \n  bzip2              pkgs/main/linux-64::bzip2-1.0.8-h5eee18b_6 \n  ca-certificates    pkgs/main/linux-64::ca-certificates-2025.2.25-h06a4308_0 \n  expat              pkgs/main/linux-64::expat-2.7.1-h6a678d5_0 \n  ld_impl_linux-64   pkgs/main/linux-64::ld_impl_linux-64-2.40-h12ee557_0 \n  libffi             pkgs/main/linux-64::libffi-3.4.4-h6a678d5_1 \n  libgcc-ng          pkgs/main/linux-64::libgcc-ng-11.2.0-h1234567_1 \n  libgomp            pkgs/main/linux-64::libgomp-11.2.0-h1234567_1 \n  libstdcxx-ng       pkgs/main/linux-64::libstdcxx-ng-11.2.0-h1234567_1 \n  libxcb             pkgs/main/linux-64::libxcb-1.17.0-h9b100fa_0 \n  ncurses            pkgs/main/linux-64::ncurses-6.4-h6a678d5_0 \n  openssl            pkgs/main/linux-64::openssl-3.0.16-h5eee18b_0 \n  pip                pkgs/main/noarch::pip-25.1-pyhc872135_2 \n  pthread-stubs      pkgs/main/linux-64::pthread-stubs-0.3-h0ce48e5_1 \n  python             pkgs/main/linux-64::python-3.9.23-he99959a_0 \n  readline           pkgs/main/linux-64::readline-8.2-h5eee18b_0 \n  setuptools         pkgs/main/linux-64::setuptools-78.1.1-py39h06a4308_0 \n  sqlite             pkgs/main/linux-64::sqlite-3.50.2-hb25bd0a_1 \n  tk                 pkgs/main/linux-64::tk-8.6.14-h993c535_1 \n  tzdata             pkgs/main/noarch::tzdata-2025b-h04d1e81_0 \n  wheel              pkgs/main/linux-64::wheel-0.45.1-py39h06a4308_0 \n  xorg-libx11        pkgs/main/linux-64::xorg-libx11-1.8.12-h9b100fa_1 \n  xorg-libxau        pkgs/main/linux-64::xorg-libxau-1.0.12-h9b100fa_0 \n  xorg-libxdmcp      pkgs/main/linux-64::xorg-libxdmcp-1.1.5-h9b100fa_0 \n  xorg-xorgproto     pkgs/main/linux-64::xorg-xorgproto-2024.1-h5eee18b_1 \n  xz                 pkgs/main/linux-64::xz-5.6.4-h5eee18b_1 \n  zlib               pkgs/main/linux-64::zlib-1.2.13-h5eee18b_1 \n\n\n\nDownloading and Extracting Packages:\npython-3.9.23        | 24.7 MB   |                                       |   0% \nlibgcc-ng-11.2.0     | 5.3 MB    |                                       |   0% \u001B[A\n\nopenssl-3.0.16       | 5.2 MB    |                                       |   0% \u001B[A\u001B[A\n\n\nlibstdcxx-ng-11.2.0  | 4.7 MB    |                                       |   0% \u001B[A\u001B[A\u001B[A\n\n\n\ntk-8.6.14            | 3.4 MB    |                                       |   0% \u001B[A\u001B[A\u001B[A\u001B[A\n\n\n\n\nsetuptools-78.1.1    | 1.7 MB    |                                       |   0% \u001B[A\u001B[A\u001B[A\u001B[A\u001B[A\n\n\n\n\n\npip-25.1             | 1.3 MB    |                                       |   0% \u001B[A\u001B[A\u001B[A\u001B[A\u001B[A\u001B[A\n\n\n\n\n\n\nsqlite-3.50.2        | 1.1 MB    |                                       |   0% \u001B[A\u001B[A\u001B[A\u001B[A\u001B[A\u001B[A\u001B[A\n\n\n\n\n\n\n\nncurses-6.4          | 914 KB    |                                       |   0% \u001B[A\u001B[A\u001B[A\u001B[A\u001B[A\u001B[A\u001B[A\u001B[A\n\n\n\n\n\n\n\n\nxorg-libx11-1.8.12   | 895 KB    |                                       |   0% \u001B[A\u001B[A\u001B[A\u001B[A\u001B[A\u001B[A\u001B[A\u001B[A\u001B[A\n\n\n\n\n\n\n\n\n\nld_impl_linux-64-2.4 | 710 KB    |                                       |   0% \u001B[A\u001B[A\u001B[A\u001B[A\u001B[A\u001B[A\u001B[A\u001B[A\u001B[A\u001B[A\n\n\n\n\n\n\n\n\n\n\nxorg-xorgproto-2024. | 580 KB    |                                       |   0% \u001B[A\u001B[A\u001B[A\u001B[A\u001B[A\u001B[A\u001B[A\u001B[A\u001B[A\u001B[A\u001B[A\n\n\n\n\n\n\n\n\n\n\n\nxz-5.6.4             | 567 KB    |                                       |   0% \u001B[A\u001B[A\u001B[A\u001B[A\u001B[A\u001B[A\u001B[A\u001B[A\u001B[A\u001B[A\u001B[A\u001B[A\n\n\n\n\n\n\n\n\n\n\n\n\nlibgomp-11.2.0       | 474 KB    |                                       |   0% \u001B[A\u001B[A\u001B[A\u001B[A\u001B[A\u001B[A\u001B[A\u001B[A\u001B[A\u001B[A\u001B[A\u001B[A\u001B[A\n\n\n\n\n\n\n\n\n\n\n\n\n\nlibxcb-1.17.0        | 430 KB    |                                       |   0% \u001B[A\u001B[A\u001B[A\u001B[A\u001B[A\u001B[A\u001B[A\u001B[A\u001B[A\u001B[A\u001B[A\u001B[A\u001B[A\u001B[A\n\n\n\n\n\n\n\n\n\n\n\n\n\n\nreadline-8.2         | 357 KB    |                                       |   0% \u001B[A\u001B[A\u001B[A\u001B[A\u001B[A\u001B[A\u001B[A\u001B[A\u001B[A\u001B[A\u001B[A\u001B[A\u001B[A\u001B[A\u001B[A\n\n\n\n\n\n\n\n\n\n\n\n\n\n\n\nbzip2-1.0.8          | 262 KB    |                                       |   0% \u001B[A\u001B[A\u001B[A\u001B[A\u001B[A\u001B[A\u001B[A\u001B[A\u001B[A\u001B[A\u001B[A\u001B[A\u001B[A\u001B[A\u001B[A\u001B[A\n\n\n\n\n\n\n\n\n\n\n\n\n\n\n\n\nexpat-2.7.1          | 182 KB    |                                       |   0% \u001B[A\u001B[A\u001B[A\u001B[A\u001B[A\u001B[A\u001B[A\u001B[A\u001B[A\u001B[A\u001B[A\u001B[A\u001B[A\u001B[A\u001B[A\u001B[A\u001B[A\n\n\n\n\n\n\n\n\n\n\n\n\n\n\n\n\n\nlibffi-3.4.4         | 141 KB    |                                       |   0% \u001B[A\u001B[A\u001B[A\u001B[A\u001B[A\u001B[A\u001B[A\u001B[A\u001B[A\u001B[A\u001B[A\u001B[A\u001B[A\u001B[A\u001B[A\u001B[A\u001B[A\u001B[A\n\n\n\n\n\n\n\n\n\n\n\n\n\n\n\n\n\n\nca-certificates-2025 | 129 KB    |                                       |   0% \u001B[A\u001B[A\u001B[A\u001B[A\u001B[A\u001B[A\u001B[A\u001B[A\u001B[A\u001B[A\u001B[A\u001B[A\u001B[A\u001B[A\u001B[A\u001B[A\u001B[A\u001B[A\u001B[A\n\n\n\n\n\n\n\n\n\n\n\n\n\n\n\n\n\n\n\ntzdata-2025b         | 116 KB    |                                       |   0% \u001B[A\u001B[A\u001B[A\u001B[A\u001B[A\u001B[A\u001B[A\u001B[A\u001B[A\u001B[A\u001B[A\u001B[A\u001B[A\u001B[A\u001B[A\u001B[A\u001B[A\u001B[A\u001B[A\u001B[A\n\n\n\n\n\n\n\n\n\n\n\n\n\n\n\n\n\n\n\n\nwheel-0.45.1         | 114 KB    |                                       |   0% \u001B[A\u001B[A\u001B[A\u001B[A\u001B[A\u001B[A\u001B[A\u001B[A\u001B[A\u001B[A\u001B[A\u001B[A\u001B[A\u001B[A\u001B[A\u001B[A\u001B[A\u001B[A\u001B[A\u001B[A\u001B[A\n\n\n\n\n\n\n\n\n\n\n\n\n\n\n\n\n\n\n\n\n\nzlib-1.2.13          | 111 KB    |                                       |   0% \u001B[A\u001B[A\u001B[A\u001B[A\u001B[A\u001B[A\u001B[A\u001B[A\u001B[A\u001B[A\u001B[A\u001B[A\u001B[A\u001B[A\u001B[A\u001B[A\u001B[A\u001B[A\u001B[A\u001B[A\u001B[A\u001B[A\n\n\n\n\n\n\n\n\n\n\n\n\n\n\n\n\n\n\n\n\n\n\npython-3.9.23        | 24.7 MB   | ####8                                 |  13% [A\u001B[A\u001B[A\u001B[A\nlibgcc-ng-11.2.0     | 5.3 MB    | ####################5                 |  56% \u001B[A\n\nopenssl-3.0.16       | 5.2 MB    | ##################2                   |  49% \u001B[A\u001B[A\n\n\nlibstdcxx-ng-11.2.0  | 4.7 MB    | ########################8             |  67% \u001B[A\u001B[A\u001B[A\n\n\n\ntk-8.6.14            | 3.4 MB    | ##################################### | 100% \u001B[A\u001B[A\u001B[A\u001B[A\n\n\n\ntk-8.6.14            | 3.4 MB    | ##################################### | 100% \u001B[A\u001B[A\u001B[A\u001B[A\n\n\n\n\nsetuptools-78.1.1    | 1.7 MB    | 3                                     |   1% \u001B[A\u001B[A\u001B[A\u001B[A\u001B[A\n\n\nlibstdcxx-ng-11.2.0  | 4.7 MB    | ##################################### | 100% \u001B[A\u001B[A\u001B[A\n\n\n\n\n\npip-25.1             | 1.3 MB    | 4                                     |   1% \u001B[A\u001B[A\u001B[A\u001B[A\u001B[A\u001B[A\nlibgcc-ng-11.2.0     | 5.3 MB    | ##################################### | 100% \u001B[A\n\n\n\n\nsetuptools-78.1.1    | 1.7 MB    | ##################################### | 100% \u001B[A\u001B[A\u001B[A\u001B[A\u001B[A\n\n\n\n\n\n\nsqlite-3.50.2        | 1.1 MB    | 5                                     |   1% \u001B[A\u001B[A\u001B[A\u001B[A\u001B[A\u001B[A\u001B[A\n\n\n\n\n\npip-25.1             | 1.3 MB    | ##################################### | 100% \u001B[A\u001B[A\u001B[A\u001B[A\u001B[A\u001B[A\n\n\n\n\n\n\n\nncurses-6.4          | 914 KB    | 6                                     |   2% \u001B[A\u001B[A\u001B[A\u001B[A\u001B[A\u001B[A\u001B[A\u001B[A\n\n\n\n\n\n\n\n\nxorg-libx11-1.8.12   | 895 KB    | 6                                     |   2% \u001B[A\u001B[A\u001B[A\u001B[A\u001B[A\u001B[A\u001B[A\u001B[A\u001B[A\n\n\n\n\n\n\n\nncurses-6.4          | 914 KB    | ##################################### | 100% \u001B[A\u001B[A\u001B[A\u001B[A\u001B[A\u001B[A\u001B[A\u001B[A\n\n\n\n\n\n\nsqlite-3.50.2        | 1.1 MB    | ##################################### | 100% \u001B[A\u001B[A\u001B[A\u001B[A\u001B[A\u001B[A\u001B[A\n\n\n\n\n\n\n\n\nxorg-libx11-1.8.12   | 895 KB    | ##################################### | 100% \u001B[A\u001B[A\u001B[A\u001B[A\u001B[A\u001B[A\u001B[A\u001B[A\u001B[A\n\n\n\n\n\n\n\n\n\nld_impl_linux-64-2.4 | 710 KB    | 8                                     |   2% \u001B[A\u001B[A\u001B[A\u001B[A\u001B[A\u001B[A\u001B[A\u001B[A\u001B[A\u001B[A\n\n\n\n\n\n\n\n\n\n\nxorg-xorgproto-2024. | 580 KB    | #                                     |   3% \u001B[A\u001B[A\u001B[A\u001B[A\u001B[A\u001B[A\u001B[A\u001B[A\u001B[A\u001B[A\u001B[A\n\n\n\n\n\n\n\n\n\n\n\npython-3.9.23        | 24.7 MB   | #########6                            |  26% \u001B[A\u001B[A\u001B[A\u001B[A\u001B[A\u001B[A\u001B[A\u001B[A\u001B[A\u001B[A\u001B[A\u001B[A\n\n\n\n\n\n\n\n\n\nld_impl_linux-64-2.4 | 710 KB    | ##################################### | 100% \u001B[A\u001B[A\u001B[A\u001B[A\u001B[A\u001B[A\u001B[A\u001B[A\u001B[A\u001B[A\n\n\n\n\n\n\n\n\n\n\n\nxz-5.6.4             | 567 KB    | ##################################### | 100% \u001B[A\u001B[A\u001B[A\u001B[A\u001B[A\u001B[A\u001B[A\u001B[A\u001B[A\u001B[A\u001B[A\u001B[A\n\n\n\n\n\n\n\n\n\n\nxorg-xorgproto-2024. | 580 KB    | ##################################### | 100% \u001B[A\u001B[A\u001B[A\u001B[A\u001B[A\u001B[A\u001B[A\u001B[A\u001B[A\u001B[A\u001B[A\n\nopenssl-3.0.16       | 5.2 MB    | ####################################4 |  98% \u001B[A\u001B[A\n\n\n\n\n\n\n\n\n\n\n\n\n\nlibxcb-1.17.0        | 430 KB    | #3                                    |   4% \u001B[A\u001B[A\u001B[A\u001B[A\u001B[A\u001B[A\u001B[A\u001B[A\u001B[A\u001B[A\u001B[A\u001B[A\u001B[A\u001B[A\n\n\n\n\n\n\n\n\n\n\n\n\n\n\nreadline-8.2         | 357 KB    | #6                                    |   4% \u001B[A\u001B[A\u001B[A\u001B[A\u001B[A\u001B[A\u001B[A\u001B[A\u001B[A\u001B[A\u001B[A\u001B[A\u001B[A\u001B[A\u001B[A\n\n\n\n\n\n\n\n\n\n\n\n\nlibgomp-11.2.0       | 474 KB    | #2                                    |   3% \u001B[A\u001B[A\u001B[A\u001B[A\u001B[A\u001B[A\u001B[A\u001B[A\u001B[A\u001B[A\u001B[A\u001B[A\u001B[A\n\n\n\n\n\n\n\n\n\n\n\n\n\nlibxcb-1.17.0        | 430 KB    | ##################################### | 100% \u001B[A\u001B[A\u001B[A\u001B[A\u001B[A\u001B[A\u001B[A\u001B[A\u001B[A\u001B[A\u001B[A\u001B[A\u001B[A\u001B[A\n\n\n\n\n\n\n\n\n\n\n\n\n\n\nreadline-8.2         | 357 KB    | ##################################### | 100% \u001B[A\u001B[A\u001B[A\u001B[A\u001B[A\u001B[A\u001B[A\u001B[A\u001B[A\u001B[A\u001B[A\u001B[A\u001B[A\u001B[A\u001B[A\n\n\n\n\n\n\n\n\n\n\n\n\nlibgomp-11.2.0       | 474 KB    | ##################################### | 100% \u001B[A\u001B[A\u001B[A\u001B[A\u001B[A\u001B[A\u001B[A\u001B[A\u001B[A\u001B[A\u001B[A\u001B[A\u001B[A\n\n\n\n\n\n\n\n\n\n\n\n\n\n\n\nbzip2-1.0.8          | 262 KB    | ##2                                   |   6% \u001B[A\u001B[A\u001B[A\u001B[A\u001B[A\u001B[A\u001B[A\u001B[A\u001B[A\u001B[A\u001B[A\u001B[A\u001B[A\u001B[A\u001B[A\u001B[A\n\n\n\n\n\n\n\n\n\n\n\n\n\n\n\n\nexpat-2.7.1          | 182 KB    | ###2                                  |   9% \u001B[A\u001B[A\u001B[A\u001B[A\u001B[A\u001B[A\u001B[A\u001B[A\u001B[A\u001B[A\u001B[A\u001B[A\u001B[A\u001B[A\u001B[A\u001B[A\u001B[A\n\n\n\n\n\n\n\n\n\n\n\n\n\n\n\nbzip2-1.0.8          | 262 KB    | ##################################### | 100% \u001B[A\u001B[A\u001B[A\u001B[A\u001B[A\u001B[A\u001B[A\u001B[A\u001B[A\u001B[A\u001B[A\u001B[A\u001B[A\u001B[A\u001B[A\u001B[A\n\n\n\n\n\n\n\n\n\n\n\n\n\n\n\n\nexpat-2.7.1          | 182 KB    | ##################################### | 100% \u001B[A\u001B[A\u001B[A\u001B[A\u001B[A\u001B[A\u001B[A\u001B[A\u001B[A\u001B[A\u001B[A\u001B[A\u001B[A\u001B[A\u001B[A\u001B[A\u001B[A\n\n\n\n\n\n\n\n\n\n\n\n\n\n\n\n\n\nlibffi-3.4.4         | 141 KB    | ####1                                 |  11% \u001B[A\u001B[A\u001B[A\u001B[A\u001B[A\u001B[A\u001B[A\u001B[A\u001B[A\u001B[A\u001B[A\u001B[A\u001B[A\u001B[A\u001B[A\u001B[A\u001B[A\u001B[A\n\n\n\n\n\n\n\n\n\n\n\n\n\n\n\n\n\npython-3.9.23        | 24.7 MB   | #################1                    |  46% \u001B[A\u001B[A\u001B[A\u001B[A\u001B[A\u001B[A\u001B[A\u001B[A\u001B[A\u001B[A\u001B[A\u001B[A\u001B[A\u001B[A\u001B[A\u001B[A\u001B[A\u001B[A\n\n\n\n\n\n\n\n\n\n\n\n\n\n\n\n\n\n\nca-certificates-2025 | 129 KB    | ####5                                 |  12% \u001B[A\u001B[A\u001B[A\u001B[A\u001B[A\u001B[A\u001B[A\u001B[A\u001B[A\u001B[A\u001B[A\u001B[A\u001B[A\u001B[A\u001B[A\u001B[A\u001B[A\u001B[A\u001B[A\n\n\n\n\n\n\n\n\n\n\n\n\n\n\n\n\n\n\nca-certificates-2025 | 129 KB    | ##################################### | 100% \u001B[A\u001B[A\u001B[A\u001B[A\u001B[A\u001B[A\u001B[A\u001B[A\u001B[A\u001B[A\u001B[A\u001B[A\u001B[A\u001B[A\u001B[A\u001B[A\u001B[A\u001B[A\u001B[A\n\n\n\n\n\n\n\n\n\n\n\n\n\n\n\n\n\n\n\ntzdata-2025b         | 116 KB    | #####                                 |  14% \u001B[A\u001B[A\u001B[A\u001B[A\u001B[A\u001B[A\u001B[A\u001B[A\u001B[A\u001B[A\u001B[A\u001B[A\u001B[A\u001B[A\u001B[A\u001B[A\u001B[A\u001B[A\u001B[A\u001B[A\n\n\n\n\n\n\n\n\n\n\n\n\n\n\n\n\n\n\n\n\nwheel-0.45.1         | 114 KB    | #####2                                |  14% \u001B[A\u001B[A\u001B[A\u001B[A\u001B[A\u001B[A\u001B[A\u001B[A\u001B[A\u001B[A\u001B[A\u001B[A\u001B[A\u001B[A\u001B[A\u001B[A\u001B[A\u001B[A\u001B[A\u001B[A\u001B[A\n\n\n\n\n\n\n\n\n\n\n\n\n\n\n\n\n\n\n\ntzdata-2025b         | 116 KB    | ##################################### | 100% \u001B[A\u001B[A\u001B[A\u001B[A\u001B[A\u001B[A\u001B[A\u001B[A\u001B[A\u001B[A\u001B[A\u001B[A\u001B[A\u001B[A\u001B[A\u001B[A\u001B[A\u001B[A\u001B[A\u001B[A\n\n\n\n\n\n\n\n\n\n\n\n\n\n\n\n\n\n\n\n\nwheel-0.45.1         | 114 KB    | ##################################### | 100% \u001B[A\u001B[A\u001B[A\u001B[A\u001B[A\u001B[A\u001B[A\u001B[A\u001B[A\u001B[A\u001B[A\u001B[A\u001B[A\u001B[A\u001B[A\u001B[A\u001B[A\u001B[A\u001B[A\u001B[A\u001B[A\n\nopenssl-3.0.16       | 5.2 MB    | ##################################### | 100% \u001B[A\u001B[A\n\n\n\n\n\n\n\n\n\n\n\n\n\n\n\n\n\n\n\n\n\nzlib-1.2.13          | 111 KB    | #####3                                |  14% \u001B[A\u001B[A\u001B[A\u001B[A\u001B[A\u001B[A\u001B[A\u001B[A\u001B[A\u001B[A\u001B[A\u001B[A\u001B[A\u001B[A\u001B[A\u001B[A\u001B[A\u001B[A\u001B[A\u001B[A\u001B[A\u001B[A\n\n\n\n\n\n\n\n\n\n\n\n\n\n\n\n\n\n\n\n\n\n\n ... (more hidden) ...\u001B[A\u001B[A\u001B[A\u001B[A\u001B[A\u001B[A\u001B[A\u001B[A\u001B[A\u001B[A\u001B[A\u001B[A\u001B[A\u001B[A\u001B[A\u001B[A\u001B[A\u001B[A\u001B[A\u001B[A\u001B[A\u001B[A\u001B[A\n\n\n\n\n\n\n\n\n\n\n\n\n\n\n\n\n\n\n\n\n\nzlib-1.2.13          | 111 KB    | ##################################### | 100% \u001B[A\u001B[A\u001B[A\u001B[A\u001B[A\u001B[A\u001B[A\u001B[A\u001B[A\u001B[A\u001B[A\u001B[A\u001B[A\u001B[A\u001B[A\u001B[A\u001B[A\u001B[A\u001B[A\u001B[A\u001B[A\u001B[A\n\n\n\n\n\n\n\n\n\n\n\n\n\n\n\n\n\n\n\n\n\n\n ... (more hidden) ...\u001B[A\u001B[A\u001B[A\u001B[A\u001B[A\u001B[A\u001B[A\u001B[A\u001B[A\u001B[A\u001B[A\u001B[A\u001B[A\u001B[A\u001B[A\u001B[A\u001B[A\u001B[A\u001B[A\u001B[A\u001B[A\u001B[A\u001B[A\n\n\npython-3.9.23        | 24.7 MB   | #########################9            |  70% \u001B[A\u001B[A\u001B[A\npython-3.9.23        | 24.7 MB   | #################################9    |  92% \u001B[A\n\n\n\ntk-8.6.14            | 3.4 MB    | ##################################### | 100% \u001B[A\u001B[A\u001B[A\u001B[A\n\n\n\n\n\npip-25.1             | 1.3 MB    | ##################################### | 100% \u001B[A\u001B[A\u001B[A\u001B[A\u001B[A\u001B[A\n\n\n\n\n\npip-25.1             | 1.3 MB    | ##################################### | 100% \u001B[A\u001B[A\u001B[A\u001B[A\u001B[A\u001B[A\n\n\n\n\n\n\nsqlite-3.50.2        | 1.1 MB    | ##################################### | 100% \u001B[A\u001B[A\u001B[A\u001B[A\u001B[A\u001B[A\u001B[A\n\n\n\n\n\n\npython-3.9.23        | 24.7 MB   | ##################################### | 100% \u001B[A\u001B[A\u001B[A\u001B[A\u001B[A\u001B[A\u001B[A\n\n\n\n\n\n\n\n\nxorg-libx11-1.8.12   | 895 KB    | ##################################### | 100% \u001B[A\u001B[A\u001B[A\u001B[A\u001B[A\u001B[A\u001B[A\u001B[A\u001B[A\n\n\n\n\n\n\n\n\nxorg-libx11-1.8.12   | 895 KB    | ##################################### | 100% \u001B[A\u001B[A\u001B[A\u001B[A\u001B[A\u001B[A\u001B[A\u001B[A\u001B[A\n\n\n\n\n\n\n\n\n\nld_impl_linux-64-2.4 | 710 KB    | ##################################### | 100% \u001B[A\u001B[A\u001B[A\u001B[A\u001B[A\u001B[A\u001B[A\u001B[A\u001B[A\u001B[A\n\n\n\n\n\n\n\n\n\nld_impl_linux-64-2.4 | 710 KB    | ##################################### | 100% \u001B[A\u001B[A\u001B[A\u001B[A\u001B[A\u001B[A\u001B[A\u001B[A\u001B[A\u001B[A\n\n\n\n\nsetuptools-78.1.1    | 1.7 MB    | ##################################### | 100% \u001B[A\u001B[A\u001B[A\u001B[A\u001B[A\n\n\n\n\nsetuptools-78.1.1    | 1.7 MB    | ##################################### | 100% \u001B[A\u001B[A\u001B[A\u001B[A\u001B[A\n\n\n\n\n\n\n\n\n\n\n\nxz-5.6.4             | 567 KB    | ##################################### | 100% \u001B[A\u001B[A\u001B[A\u001B[A\u001B[A\u001B[A\u001B[A\u001B[A\u001B[A\u001B[A\u001B[A\u001B[A\n\n\n\n\n\n\n\n\n\n\n\nxz-5.6.4             | 567 KB    | ##################################### | 100% \u001B[A\u001B[A\u001B[A\u001B[A\u001B[A\u001B[A\u001B[A\u001B[A\u001B[A\u001B[A\u001B[A\u001B[A\n\n\n\n\n\n\n\n\n\n\nxorg-xorgproto-2024. | 580 KB    | ##################################### | 100% \u001B[A\u001B[A\u001B[A\u001B[A\u001B[A\u001B[A\u001B[A\u001B[A\u001B[A\u001B[A\u001B[A\n\n\n\n\n\n\n\n\n\n\nxorg-xorgproto-2024. | 580 KB    | ##################################### | 100% \u001B[A\u001B[A\u001B[A\u001B[A\u001B[A\u001B[A\u001B[A\u001B[A\u001B[A\u001B[A\u001B[A\n\n\n\n\n\n\n\n\n\n\n\n\n\nlibxcb-1.17.0        | 430 KB    | ##################################### | 100% \u001B[A\u001B[A\u001B[A\u001B[A\u001B[A\u001B[A\u001B[A\u001B[A\u001B[A\u001B[A\u001B[A\u001B[A\u001B[A\u001B[A\n\n\n\n\n\n\n\n\n\n\n\n\n\nlibxcb-1.17.0        | 430 KB    | ##################################### | 100% \u001B[A\u001B[A\u001B[A\u001B[A\u001B[A\u001B[A\u001B[A\u001B[A\u001B[A\u001B[A\u001B[A\u001B[A\u001B[A\u001B[A\n\n\n\n\n\n\n\n\n\n\n\n\n\n\nreadline-8.2         | 357 KB    | ##################################### | 100% \u001B[A\u001B[A\u001B[A\u001B[A\u001B[A\u001B[A\u001B[A\u001B[A\u001B[A\u001B[A\u001B[A\u001B[A\u001B[A\u001B[A\u001B[A\n\n\n\n\n\n\n\n\n\n\n\n\n\n\nreadline-8.2         | 357 KB    | ##################################### | 100% \u001B[A\u001B[A\u001B[A\u001B[A\u001B[A\u001B[A\u001B[A\u001B[A\u001B[A\u001B[A\u001B[A\u001B[A\u001B[A\u001B[A\u001B[A\n\n\n\n\n\n\n\n\n\n\n\n\n\n\n\nbzip2-1.0.8          | 262 KB    | ##################################### | 100% \u001B[A\u001B[A\u001B[A\u001B[A\u001B[A\u001B[A\u001B[A\u001B[A\u001B[A\u001B[A\u001B[A\u001B[A\u001B[A\u001B[A\u001B[A\u001B[A\n\n\n\n\n\n\n\n\n\n\n\n\n\n\n\nbzip2-1.0.8          | 262 KB    | ##################################### | 100% \u001B[A\u001B[A\u001B[A\u001B[A\u001B[A\u001B[A\u001B[A\u001B[A\u001B[A\u001B[A\u001B[A\u001B[A\u001B[A\u001B[A\u001B[A\u001B[A\n\n\n\n\n\n\n\n\n\n\n\n\nlibgomp-11.2.0       | 474 KB    | ##################################### | 100% \u001B[A\u001B[A\u001B[A\u001B[A\u001B[A\u001B[A\u001B[A\u001B[A\u001B[A\u001B[A\u001B[A\u001B[A\u001B[A\n\n\n\n\n\n\n\n\n\n\n\n\nlibgomp-11.2.0       | 474 KB    | ##################################### | 100% \u001B[A\u001B[A\u001B[A\u001B[A\u001B[A\u001B[A\u001B[A\u001B[A\u001B[A\u001B[A\u001B[A\u001B[A\u001B[A\n\n\n\n\n\n\n\n\n\n\n\n\n\n\n\n\nexpat-2.7.1          | 182 KB    | ##################################### | 100% \u001B[A\u001B[A\u001B[A\u001B[A\u001B[A\u001B[A\u001B[A\u001B[A\u001B[A\u001B[A\u001B[A\u001B[A\u001B[A\u001B[A\u001B[A\u001B[A\u001B[A\n\n\n\n\n\n\n\n\n\n\n\n\n\n\n\n\nexpat-2.7.1          | 182 KB    | ##################################### | 100% \u001B[A\u001B[A\u001B[A\u001B[A\u001B[A\u001B[A\u001B[A\u001B[A\u001B[A\u001B[A\u001B[A\u001B[A\u001B[A\u001B[A\u001B[A\u001B[A\u001B[A\n\n\n\n\n\n\n\n\n\n\n\n\n\n\n\n\n\n\nca-certificates-2025 | 129 KB    | ##################################### | 100% \u001B[A\u001B[A\u001B[A\u001B[A\u001B[A\u001B[A\u001B[A\u001B[A\u001B[A\u001B[A\u001B[A\u001B[A\u001B[A\u001B[A\u001B[A\u001B[A\u001B[A\u001B[A\u001B[A\n\n\n\n\n\n\n\n\n\n\n\n\n\n\n\n\n\n\nca-certificates-2025 | 129 KB    | ##################################### | 100% \u001B[A\u001B[A\u001B[A\u001B[A\u001B[A\u001B[A\u001B[A\u001B[A\u001B[A\u001B[A\u001B[A\u001B[A\u001B[A\u001B[A\u001B[A\u001B[A\u001B[A\u001B[A\u001B[A\n\n\n\n\n\n\n\n\n\n\n\n\n\n\n\n\n\nlibffi-3.4.4         | 141 KB    | ##################################### | 100% \u001B[A\u001B[A\u001B[A\u001B[A\u001B[A\u001B[A\u001B[A\u001B[A\u001B[A\u001B[A\u001B[A\u001B[A\u001B[A\u001B[A\u001B[A\u001B[A\u001B[A\u001B[A\n\n\n\n\n\n\n\n\n\n\n\n\n\n\n\n\n\nlibffi-3.4.4         | 141 KB    | ##################################### | 100% \u001B[A\u001B[A\u001B[A\u001B[A\u001B[A\u001B[A\u001B[A\u001B[A\u001B[A\u001B[A\u001B[A\u001B[A\u001B[A\u001B[A\u001B[A\u001B[A\u001B[A\u001B[A\n\n\n\n\n\n\n\n\n\n\n\n\n\n\n\n\n\n\n\n\nwheel-0.45.1         | 114 KB    | ##################################### | 100% \u001B[A\u001B[A\u001B[A\u001B[A\u001B[A\u001B[A\u001B[A\u001B[A\u001B[A\u001B[A\u001B[A\u001B[A\u001B[A\u001B[A\u001B[A\u001B[A\u001B[A\u001B[A\u001B[A\u001B[A\u001B[A\n\n\n\n\n\n\n\n\n\n\n\n\n\n\n\n\n\n\n\n\nwheel-0.45.1         | 114 KB    | ##################################### | 100% \u001B[A\u001B[A\u001B[A\u001B[A\u001B[A\u001B[A\u001B[A\u001B[A\u001B[A\u001B[A\u001B[A\u001B[A\u001B[A\u001B[A\u001B[A\u001B[A\u001B[A\u001B[A\u001B[A\u001B[A\u001B[A\n\n\n\n\n\n\n\n\n\n\n\n\n\n\n\n\n\n\n\ntzdata-2025b         | 116 KB    | ##################################### | 100% \u001B[A\u001B[A\u001B[A\u001B[A\u001B[A\u001B[A\u001B[A\u001B[A\u001B[A\u001B[A\u001B[A\u001B[A\u001B[A\u001B[A\u001B[A\u001B[A\u001B[A\u001B[A\u001B[A\u001B[A\n\n\n\n\n\n\n\n\n\n\n\n\n\n\n\n\n\n\n\ntzdata-2025b         | 116 KB    | ##################################### | 100% \u001B[A\u001B[A\u001B[A\u001B[A\u001B[A\u001B[A\u001B[A\u001B[A\u001B[A\u001B[A\u001B[A\u001B[A\u001B[A\u001B[A\u001B[A\u001B[A\u001B[A\u001B[A\u001B[A\u001B[A\n\n\n\n\n\n\n\n\n\n\n\n\n\n\n\n\n\n\n\n\n\nzlib-1.2.13          | 111 KB    | ##################################### | 100% \u001B[A\u001B[A\u001B[A\u001B[A\u001B[A\u001B[A\u001B[A\u001B[A\u001B[A\u001B[A\u001B[A\u001B[A\u001B[A\u001B[A\u001B[A\u001B[A\u001B[A\u001B[A\u001B[A\u001B[A\u001B[A\u001B[A\n\n\n\n\n\n\n\n\n\n\n\n\n\n\n\n\n\n\n\n\n\nzlib-1.2.13          | 111 KB    | ##################################### | 100% \u001B[A\u001B[A\u001B[A\u001B[A\u001B[A\u001B[A\u001B[A\u001B[A\u001B[A\u001B[A\u001B[A\u001B[A\u001B[A\u001B[A\u001B[A\u001B[A\u001B[A\u001B[A\u001B[A\u001B[A\u001B[A\u001B[A\n\n\n\n\n\n\n\n\n\n\n\n\n\n\n\n\n\n\n\n\n\n\n ... (more hidden) ...\u001B[A\u001B[A\u001B[A\u001B[A\u001B[A\u001B[A\u001B[A\u001B[A\u001B[A\u001B[A\u001B[A\u001B[A\u001B[A\u001B[A\u001B[A\u001B[A\u001B[A\u001B[A\u001B[A\u001B[A\u001B[A\u001B[A\u001B[A\n\n\n\n\n\n\n\n\n\n\n\n\n\n\n\n\n\n\n\n\n\n\n ... (more hidden) ...\u001B[A\u001B[A\u001B[A\u001B[A\u001B[A\u001B[A\u001B[A\u001B[A\u001B[A\u001B[A\u001B[A\u001B[A\u001B[A\u001B[A\u001B[A\u001B[A\u001B[A\u001B[A\u001B[A\u001B[A\u001B[A\u001B[A\u001B[A\n\nopenssl-3.0.16       | 5.2 MB    | ##################################### | 100% \u001B[A\u001B[A\n\n\n\n\n\n\n\nncurses-6.4          | 914 KB    | ##################################### | 100% \u001B[A\u001B[A\u001B[A\u001B[A\u001B[A\u001B[A\u001B[A\u001B[A\n\n\n\n\n\n\n\npython-3.9.23        | 24.7 MB   | ##################################### | 100% \u001B[A\u001B[A\u001B[A\u001B[A\u001B[A\u001B[A\u001B[A\u001B[A\n\n\n\n\n\n\n\n\n\n\n\n\n\n\n\n\n\n\n\n\n\n\n                                                                                \n                                                                                \u001B[A\n\n                                                                                \u001B[A\u001B[A\n\n\n                                                                                \u001B[A\u001B[A\u001B[A\n\n\n\n                                                                                \u001B[A\u001B[A\u001B[A\u001B[A\n\n\n\n\n                                                                                \u001B[A\u001B[A\u001B[A\u001B[A\u001B[A\n\n\n\n\n\n                                                                                \u001B[A\u001B[A\u001B[A\u001B[A\u001B[A\u001B[A\n\n\n\n\n\n\n                                                                                \u001B[A\u001B[A\u001B[A\u001B[A\u001B[A\u001B[A\u001B[A\n\n\n\n\n\n\n\n                                                                                \u001B[A\u001B[A\u001B[A\u001B[A\u001B[A\u001B[A\u001B[A\u001B[A\n\n\n\n\n\n\n\n\n                                                                                \u001B[A\u001B[A\u001B[A\u001B[A\u001B[A\u001B[A\u001B[A\u001B[A\u001B[A\n\n\n\n\n\n\n\n\n\n                                                                                \u001B[A\u001B[A\u001B[A\u001B[A\u001B[A\u001B[A\u001B[A\u001B[A\u001B[A\u001B[A\n\n\n\n\n\n\n\n\n\n\n                                                                                \u001B[A\u001B[A\u001B[A\u001B[A\u001B[A\u001B[A\u001B[A\u001B[A\u001B[A\u001B[A\u001B[A\n\n\n\n\n\n\n\n\n\n\n\n                                                                                \u001B[A\u001B[A\u001B[A\u001B[A\u001B[A\u001B[A\u001B[A\u001B[A\u001B[A\u001B[A\u001B[A\u001B[A\n\n\n\n\n\n\n\n\n\n\n\n\n                                                                                \u001B[A\u001B[A\u001B[A\u001B[A\u001B[A\u001B[A\u001B[A\u001B[A\u001B[A\u001B[A\u001B[A\u001B[A\u001B[A\n\n\n\n\n\n\n\n\n\n\n\n\n\n                                                                                \u001B[A\u001B[A\u001B[A\u001B[A\u001B[A\u001B[A\u001B[A\u001B[A\u001B[A\u001B[A\u001B[A\u001B[A\u001B[A\u001B[A\n\n\n\n\n\n\n\n\n\n\n\n\n\n\n                                                                                \u001B[A\u001B[A\u001B[A\u001B[A\u001B[A\u001B[A\u001B[A\u001B[A\u001B[A\u001B[A\u001B[A\u001B[A\u001B[A\u001B[A\u001B[A\n\n\n\n\n\n\n\n\n\n\n\n\n\n\n\n                                                                                \u001B[A\u001B[A\u001B[A\u001B[A\u001B[A\u001B[A\u001B[A\u001B[A\u001B[A\u001B[A\u001B[A\u001B[A\u001B[A\u001B[A\u001B[A\u001B[A\n\n\n\n\n\n\n\n\n\n\n\n\n\n\n\n\n                                                                                \u001B[A\u001B[A\u001B[A\u001B[A\u001B[A\u001B[A\u001B[A\u001B[A\u001B[A\u001B[A\u001B[A\u001B[A\u001B[A\u001B[A\u001B[A\u001B[A\u001B[A\n\n\n\n\n\n\n\n\n\n\n\n\n\n\n\n\n\n                                                                                \u001B[A\u001B[A\u001B[A\u001B[A\u001B[A\u001B[A\u001B[A\u001B[A\u001B[A\u001B[A\u001B[A\u001B[A\u001B[A\u001B[A\u001B[A\u001B[A\u001B[A\u001B[A\n\n\n\n\n\n\n\n\n\n\n\n\n\n\n\n\n\n\n                                                                                \u001B[A\u001B[A\u001B[A\u001B[A\u001B[A\u001B[A\u001B[A\u001B[A\u001B[A\u001B[A\u001B[A\u001B[A\u001B[A\u001B[A\u001B[A\u001B[A\u001B[A\u001B[A\u001B[A\n\n\n\n\n\n\n\n\n\n\n\n\n\n\n\n\n\n\n\n                                                                                \u001B[A\u001B[A\u001B[A\u001B[A\u001B[A\u001B[A\u001B[A\u001B[A\u001B[A\u001B[A\u001B[A\u001B[A\u001B[A\u001B[A\u001B[A\u001B[A\u001B[A\u001B[A\u001B[A\u001B[A\n\n\n\n\n\n\n\n\n\n\n\n\n\n\n\n\n\n\n\n\n                                                                                \u001B[A\u001B[A\u001B[A\u001B[A\u001B[A\u001B[A\u001B[A\u001B[A\u001B[A\u001B[A\u001B[A\u001B[A\u001B[A\u001B[A\u001B[A\u001B[A\u001B[A\u001B[A\u001B[A\u001B[A\u001B[A\n\n\n\n\n\n\n\n\n\n\n\n\n\n\n\n\n\n\n\n\n\n                                                                                \u001B[A\u001B[A\u001B[A\u001B[A\u001B[A\u001B[A\u001B[A\u001B[A\u001B[A\u001B[A\u001B[A\u001B[A\u001B[A\u001B[A\u001B[A\u001B[A\u001B[A\u001B[A\u001B[A\u001B[A\u001B[A\u001B[A\n\u001B[A\n\n\u001B[A\u001B[A\n\n\n\u001B[A\u001B[A\u001B[A\n\n\n\n\u001B[A\u001B[A\u001B[A\u001B[A\nPreparing transaction: done\nVerifying transaction: done\nExecuting transaction: done\n#\n# To activate this environment, use\n#\n#     $ conda activate py39\n#\n# To deactivate an active environment, use\n#\n#     $ conda deactivate\n\n",
     "output_type": "stream"
    }
   ]
  },
  {
   "cell_type": "code",
   "source": "# Activate the environment\nconda activate py39",
   "metadata": {
    "trusted": true,
    "tags": []
   },
   "execution_count": 9,
   "outputs": []
  },
  {
   "cell_type": "code",
   "source": "pip install --upgrade pip",
   "metadata": {
    "trusted": true,
    "tags": []
   },
   "execution_count": 10,
   "outputs": [
    {
     "name": "stdout",
     "text": "Requirement already satisfied: pip in /opt/conda/envs/py39/lib/python3.9/site-packages (25.1)\nCollecting pip\n  Downloading pip-25.1.1-py3-none-any.whl.metadata (3.6 kB)\nDownloading pip-25.1.1-py3-none-any.whl (1.8 MB)\n\u001B[2K   \u001B[90m━━━━━━━━━━━━━━━━━━━━━━━━━━━━━━━━━━━━━━━━\u001B[0m \u001B[32m1.8/1.8 MB\u001B[0m \u001B[31m85.8 MB/s\u001B[0m eta \u001B[36m0:00:00\u001B[0m\n\u001B[?25hInstalling collected packages: pip\n  Attempting uninstall: pip\n    Found existing installation: pip 25.1\n    Uninstalling pip-25.1:\n      Successfully uninstalled pip-25.1\nSuccessfully installed pip-25.1.1\n\u001B[33mWARNING: Running pip as the 'root' user can result in broken permissions and conflicting behaviour with the system package manager, possibly rendering your system unusable. It is recommended to use a virtual environment instead: https://pip.pypa.io/warnings/venv. Use the --root-user-action option if you know what you are doing and want to suppress this warning.\u001B[0m\u001B[33m\n\u001B[0m\n",
     "output_type": "stream"
    }
   ]
  },
  {
   "cell_type": "code",
   "source": "pip install .",
   "metadata": {
    "trusted": true,
    "tags": []
   },
   "execution_count": 11,
   "outputs": [
    {
     "name": "stdout",
     "text": "Processing /opt/notebooks/snipar\n  Installing build dependencies ... \u001B[?25ldone\n\u001B[?25h  Getting requirements to build wheel ... \u001B[?25ldone\n\u001B[?25h  Preparing metadata (pyproject.toml) ... \u001B[?25ldone\n\u001B[?25hCollecting numpy==1.21.1 (from snipar==0.0.22)\n  Using cached numpy-1.21.1-cp39-cp39-manylinux_2_12_x86_64.manylinux2010_x86_64.whl.metadata (2.0 kB)\nCollecting scipy==1.7.1 (from snipar==0.0.22)\n  Downloading scipy-1.7.1-cp39-cp39-manylinux_2_5_x86_64.manylinux1_x86_64.whl.metadata (2.2 kB)\nCollecting bgen_reader==4.0.7 (from snipar==0.0.22)\n  Downloading bgen_reader-4.0.7-py3-none-any.whl.metadata (2.6 kB)\nCollecting pandas==1.1.4 (from snipar==0.0.22)\n  Downloading pandas-1.1.4-cp39-cp39-manylinux1_x86_64.whl.metadata (4.7 kB)\nCollecting pysnptools==0.5.3 (from snipar==0.0.22)\n  Downloading pysnptools-0.5.3.tar.gz (216 kB)\n  Installing build dependencies ... \u001B[?25ldone\n\u001B[?25h  Getting requirements to build wheel ... \u001B[?25ldone\n\u001B[?25h  Preparing metadata (pyproject.toml) ... \u001B[?25ldone\n\u001B[?25hCollecting networkx==2.5 (from snipar==0.0.22)\n  Downloading networkx-2.5-py3-none-any.whl.metadata (4.9 kB)\nCollecting h5py==3.6.0 (from snipar==0.0.22)\n  Downloading h5py-3.6.0-cp39-cp39-manylinux_2_12_x86_64.manylinux2010_x86_64.whl.metadata (1.9 kB)\nCollecting pooch==1.5.1 (from snipar==0.0.22)\n  Downloading pooch-1.5.1-py3-none-any.whl.metadata (10 kB)\nCollecting numba==0.55.0 (from snipar==0.0.22)\n  Downloading numba-0.55.0-cp39-cp39-manylinux2014_x86_64.manylinux_2_17_x86_64.whl.metadata (3.3 kB)\nCollecting gitpython==3.1.24 (from snipar==0.0.22)\n  Downloading GitPython-3.1.24-py3-none-any.whl.metadata (1.2 kB)\nCollecting scikit-learn==1.0.2 (from snipar==0.0.22)\n  Downloading scikit_learn-1.0.2-cp39-cp39-manylinux_2_17_x86_64.manylinux2014_x86_64.whl.metadata (10 kB)\nCollecting statsmodels==0.13.2 (from snipar==0.0.22)\n  Downloading statsmodels-0.13.2-cp39-cp39-manylinux_2_17_x86_64.manylinux2014_x86_64.whl.metadata (8.1 kB)\nCollecting numdifftools>=0.9.39 (from snipar==0.0.22)\n  Downloading numdifftools-0.9.41-py2.py3-none-any.whl.metadata (39 kB)\nCollecting appdirs>=1.4.3 (from bgen_reader==4.0.7->snipar==0.0.22)\n  Downloading appdirs-1.4.4-py2.py3-none-any.whl.metadata (9.0 kB)\nCollecting cachetools>=3.1.1 (from bgen_reader==4.0.7->snipar==0.0.22)\n  Downloading cachetools-6.1.0-py3-none-any.whl.metadata (5.4 kB)\nCollecting cbgen>=1.0.0 (from bgen_reader==4.0.7->snipar==0.0.22)\n  Downloading cbgen-1.0.6-cp39-cp39-manylinux_2_17_x86_64.manylinux2014_x86_64.whl.metadata (2.3 kB)\nCollecting dask>=2.12.0 (from dask[array,bag,dataframe,delayed]>=2.12.0->bgen_reader==4.0.7->snipar==0.0.22)\n  Downloading dask-2024.8.0-py3-none-any.whl.metadata (3.8 kB)\nCollecting pytest-runner>=5.2 (from bgen_reader==4.0.7->snipar==0.0.22)\n  Downloading pytest_runner-6.0.1-py3-none-any.whl.metadata (7.3 kB)\nCollecting pytest>=5.4.1 (from bgen_reader==4.0.7->snipar==0.0.22)\n  Downloading pytest-8.4.1-py3-none-any.whl.metadata (7.7 kB)\nCollecting requests>=1.25.8 (from bgen_reader==4.0.7->snipar==0.0.22)\n  Downloading requests-2.32.4-py3-none-any.whl.metadata (4.9 kB)\nCollecting texttable>=1.6.2 (from bgen_reader==4.0.7->snipar==0.0.22)\n  Downloading texttable-1.7.0-py2.py3-none-any.whl.metadata (9.8 kB)\nCollecting tqdm>=4.43.0 (from bgen_reader==4.0.7->snipar==0.0.22)\n  Downloading tqdm-4.67.1-py3-none-any.whl.metadata (57 kB)\nCollecting xarray>=0.16.0 (from bgen_reader==4.0.7->snipar==0.0.22)\n  Downloading xarray-2024.7.0-py3-none-any.whl.metadata (11 kB)\nCollecting gitdb<5,>=4.0.1 (from gitpython==3.1.24->snipar==0.0.22)\n  Downloading gitdb-4.0.12-py3-none-any.whl.metadata (1.2 kB)\nCollecting typing-extensions>=3.7.4.3 (from gitpython==3.1.24->snipar==0.0.22)\n  Downloading typing_extensions-4.14.1-py3-none-any.whl.metadata (3.0 kB)\nCollecting decorator>=4.3.0 (from networkx==2.5->snipar==0.0.22)\n  Downloading decorator-5.2.1-py3-none-any.whl.metadata (3.9 kB)\nCollecting llvmlite<0.39,>=0.38.0rc1 (from numba==0.55.0->snipar==0.0.22)\n  Downloading llvmlite-0.38.1-cp39-cp39-manylinux_2_17_x86_64.manylinux2014_x86_64.whl.metadata (4.7 kB)\nRequirement already satisfied: setuptools in /opt/conda/envs/py39/lib/python3.9/site-packages (from numba==0.55.0->snipar==0.0.22) (78.1.1)\nCollecting python-dateutil>=2.7.3 (from pandas==1.1.4->snipar==0.0.22)\n  Downloading python_dateutil-2.9.0.post0-py2.py3-none-any.whl.metadata (8.4 kB)\nCollecting pytz>=2017.2 (from pandas==1.1.4->snipar==0.0.22)\n  Downloading pytz-2025.2-py2.py3-none-any.whl.metadata (22 kB)\nCollecting packaging (from pooch==1.5.1->snipar==0.0.22)\n  Downloading packaging-25.0-py3-none-any.whl.metadata (3.3 kB)\nCollecting psutil>=5.6.3 (from pysnptools==0.5.3->snipar==0.0.22)\n  Downloading psutil-7.0.0-cp36-abi3-manylinux_2_12_x86_64.manylinux2010_x86_64.manylinux_2_17_x86_64.manylinux2014_x86_64.whl.metadata (22 kB)\nCollecting dill>=0.2.9 (from pysnptools==0.5.3->snipar==0.0.22)\n  Downloading dill-0.4.0-py3-none-any.whl.metadata (10 kB)\nCollecting more-itertools>=8.7.0 (from pysnptools==0.5.3->snipar==0.0.22)\n  Downloading more_itertools-10.7.0-py3-none-any.whl.metadata (37 kB)\nCollecting bed-reader>=0.2.5 (from pysnptools==0.5.3->snipar==0.0.22)\n  Downloading bed_reader-1.0.6.tar.gz (2.8 MB)\n\u001B[2K     \u001B[90m━━━━━━━━━━━━━━━━━━━━━━━━━━━━━━━━━━━━━━━━\u001B[0m \u001B[32m2.8/2.8 MB\u001B[0m \u001B[31m106.3 MB/s\u001B[0m eta \u001B[36m0:00:00\u001B[0m\n\u001B[?25h  Installing build dependencies ... \u001B[?25ldone\n\u001B[?25h  Getting requirements to build wheel ... \u001B[?25ldone\n\u001B[?25h  Installing backend dependencies ... \u001B[?25ldone\n\u001B[?25h  Preparing metadata (pyproject.toml) ... \u001B[?25ldone\n\u001B[?25hCollecting joblib>=0.11 (from scikit-learn==1.0.2->snipar==0.0.22)\n  Downloading joblib-1.5.1-py3-none-any.whl.metadata (5.6 kB)\nCollecting threadpoolctl>=2.0.0 (from scikit-learn==1.0.2->snipar==0.0.22)\n  Downloading threadpoolctl-3.6.0-py3-none-any.whl.metadata (13 kB)\nCollecting patsy>=0.5.2 (from statsmodels==0.13.2->snipar==0.0.22)\n  Downloading patsy-1.0.1-py2.py3-none-any.whl.metadata (3.3 kB)\nCollecting smmap<6,>=3.0.1 (from gitdb<5,>=4.0.1->gitpython==3.1.24->snipar==0.0.22)\n  Downloading smmap-5.0.2-py3-none-any.whl.metadata (4.3 kB)\nCollecting cffi (from cbgen>=1.0.0->bgen_reader==4.0.7->snipar==0.0.22)\n  Downloading cffi-1.17.1-cp39-cp39-manylinux_2_17_x86_64.manylinux2014_x86_64.whl.metadata (1.5 kB)\nINFO: pip is looking at multiple versions of cbgen to determine which version is compatible with other requirements. This could take a while.\nCollecting cbgen>=1.0.0 (from bgen_reader==4.0.7->snipar==0.0.22)\n  Downloading cbgen-1.0.5-cp39-cp39-manylinux_2_17_x86_64.manylinux2014_x86_64.whl.metadata (2.3 kB)\nCollecting urllib3>=1.26 (from cbgen>=1.0.0->bgen_reader==4.0.7->snipar==0.0.22)\n  Downloading urllib3-2.5.0-py3-none-any.whl.metadata (6.5 kB)\nCollecting click>=8.1 (from dask>=2.12.0->dask[array,bag,dataframe,delayed]>=2.12.0->bgen_reader==4.0.7->snipar==0.0.22)\n  Downloading click-8.1.8-py3-none-any.whl.metadata (2.3 kB)\nCollecting cloudpickle>=1.5.0 (from dask>=2.12.0->dask[array,bag,dataframe,delayed]>=2.12.0->bgen_reader==4.0.7->snipar==0.0.22)\n  Downloading cloudpickle-3.1.1-py3-none-any.whl.metadata (7.1 kB)\nCollecting fsspec>=2021.09.0 (from dask>=2.12.0->dask[array,bag,dataframe,delayed]>=2.12.0->bgen_reader==4.0.7->snipar==0.0.22)\n  Downloading fsspec-2025.7.0-py3-none-any.whl.metadata (12 kB)\nCollecting partd>=1.4.0 (from dask>=2.12.0->dask[array,bag,dataframe,delayed]>=2.12.0->bgen_reader==4.0.7->snipar==0.0.22)\n  Downloading partd-1.4.2-py3-none-any.whl.metadata (4.6 kB)\nCollecting pyyaml>=5.3.1 (from dask>=2.12.0->dask[array,bag,dataframe,delayed]>=2.12.0->bgen_reader==4.0.7->snipar==0.0.22)\n  Downloading PyYAML-6.0.2-cp39-cp39-manylinux_2_17_x86_64.manylinux2014_x86_64.whl.metadata (2.1 kB)\nCollecting toolz>=0.10.0 (from dask>=2.12.0->dask[array,bag,dataframe,delayed]>=2.12.0->bgen_reader==4.0.7->snipar==0.0.22)\n  Downloading toolz-1.0.0-py3-none-any.whl.metadata (5.1 kB)\nCollecting importlib-metadata>=4.13.0 (from dask>=2.12.0->dask[array,bag,dataframe,delayed]>=2.12.0->bgen_reader==4.0.7->snipar==0.0.22)\n  Downloading importlib_metadata-8.7.0-py3-none-any.whl.metadata (4.8 kB)\nINFO: pip is looking at multiple versions of dask[array,bag,dataframe,delayed] to determine which version is compatible with other requirements. This could take a while.\nCollecting dask[array,bag,dataframe,delayed]>=2.12.0 (from bgen_reader==4.0.7->snipar==0.0.22)\n  Downloading dask-2024.7.1-py3-none-any.whl.metadata (3.8 kB)\n  Downloading dask-2024.7.0-py3-none-any.whl.metadata (3.8 kB)\n  Downloading dask-2024.6.2-py3-none-any.whl.metadata (3.8 kB)\n  Downloading dask-2024.6.1-py3-none-any.whl.metadata (3.8 kB)\n  Downloading dask-2024.6.0-py3-none-any.whl.metadata (3.8 kB)\n  Downloading dask-2024.5.2-py3-none-any.whl.metadata (3.8 kB)\n  Downloading dask-2024.5.1-py3-none-any.whl.metadata (3.8 kB)\nINFO: pip is still looking at multiple versions of dask[array,bag,dataframe,delayed] to determine which version is compatible with other requirements. This could take a while.\n  Downloading dask-2024.5.0-py3-none-any.whl.metadata (3.8 kB)\n  Downloading dask-2024.4.2-py3-none-any.whl.metadata (3.8 kB)\n  Downloading dask-2024.4.1-py3-none-any.whl.metadata (3.8 kB)\n  Downloading dask-2024.4.0-py3-none-any.whl.metadata (3.8 kB)\n  Downloading dask-2024.3.1-py3-none-any.whl.metadata (3.8 kB)\nINFO: This is taking longer than usual. You might need to provide the dependency resolver with stricter constraints to reduce runtime. See https://pip.pypa.io/warnings/backtracking for guidance. If you want to abort this run, press Ctrl + C.\n  Downloading dask-2024.3.0-py3-none-any.whl.metadata (3.8 kB)\n  Downloading dask-2024.2.1-py3-none-any.whl.metadata (3.7 kB)\n  Downloading dask-2024.2.0-py3-none-any.whl.metadata (3.7 kB)\n  Downloading dask-2024.1.1-py3-none-any.whl.metadata (3.7 kB)\n  Downloading dask-2024.1.0-py3-none-any.whl.metadata (3.7 kB)\n  Downloading dask-2023.12.1-py3-none-any.whl.metadata (3.7 kB)\n  Downloading dask-2023.12.0-py3-none-any.whl.metadata (3.7 kB)\n  Downloading dask-2023.11.0-py3-none-any.whl.metadata (3.7 kB)\n  Downloading dask-2023.10.1-py3-none-any.whl.metadata (3.7 kB)\n  Downloading dask-2023.10.0-py3-none-any.whl.metadata (3.6 kB)\n  Downloading dask-2023.9.3-py3-none-any.whl.metadata (3.6 kB)\n  Downloading dask-2023.9.2-py3-none-any.whl.metadata (3.6 kB)\n  Downloading dask-2023.9.1-py3-none-any.whl.metadata (3.6 kB)\n  Downloading dask-2023.9.0-py3-none-any.whl.metadata (3.6 kB)\n  Downloading dask-2023.8.1-py3-none-any.whl.metadata (3.6 kB)\n  Downloading dask-2023.8.0-py3-none-any.whl.metadata (3.6 kB)\n  Downloading dask-2023.7.1-py3-none-any.whl.metadata (3.6 kB)\n  Downloading dask-2023.7.0-py3-none-any.whl.metadata (3.6 kB)\n  Downloading dask-2023.6.1-py3-none-any.whl.metadata (3.6 kB)\n  Downloading dask-2023.6.0-py3-none-any.whl.metadata (3.6 kB)\n  Downloading dask-2023.5.1-py3-none-any.whl.metadata (3.6 kB)\n  Downloading dask-2023.5.0-py3-none-any.whl.metadata (3.6 kB)\n  Downloading dask-2023.4.1-py3-none-any.whl.metadata (3.6 kB)\n  Downloading dask-2023.4.0-py3-none-any.whl.metadata (3.6 kB)\n  Downloading dask-2023.3.2-py3-none-any.whl.metadata (3.8 kB)\n  Downloading dask-2023.3.1-py3-none-any.whl.metadata (3.7 kB)\n  Downloading dask-2023.3.0-py3-none-any.whl.metadata (3.6 kB)\n  Downloading dask-2023.2.1-py3-none-any.whl.metadata (3.6 kB)\n  Downloading dask-2023.2.0-py3-none-any.whl.metadata (3.6 kB)\nCollecting locket (from partd>=1.4.0->dask>=2.12.0->dask[array,bag,dataframe,delayed]>=2.12.0->bgen_reader==4.0.7->snipar==0.0.22)\n  Downloading locket-1.0.0-py2.py3-none-any.whl.metadata (2.8 kB)\nCollecting exceptiongroup>=1 (from pytest>=5.4.1->bgen_reader==4.0.7->snipar==0.0.22)\n  Using cached exceptiongroup-1.3.0-py3-none-any.whl.metadata (6.7 kB)\nCollecting iniconfig>=1 (from pytest>=5.4.1->bgen_reader==4.0.7->snipar==0.0.22)\n  Downloading iniconfig-2.1.0-py3-none-any.whl.metadata (2.7 kB)\nCollecting pluggy<2,>=1.5 (from pytest>=5.4.1->bgen_reader==4.0.7->snipar==0.0.22)\n  Downloading pluggy-1.6.0-py3-none-any.whl.metadata (4.8 kB)\nCollecting pygments>=2.7.2 (from pytest>=5.4.1->bgen_reader==4.0.7->snipar==0.0.22)\n  Downloading pygments-2.19.2-py3-none-any.whl.metadata (2.5 kB)\nCollecting tomli>=1 (from pytest>=5.4.1->bgen_reader==4.0.7->snipar==0.0.22)\n  Using cached tomli-2.2.1-py3-none-any.whl.metadata (10 kB)\nCollecting six>=1.5 (from python-dateutil>=2.7.3->pandas==1.1.4->snipar==0.0.22)\n  Downloading six-1.17.0-py2.py3-none-any.whl.metadata (1.7 kB)\nCollecting charset_normalizer<4,>=2 (from requests>=1.25.8->bgen_reader==4.0.7->snipar==0.0.22)\n  Downloading charset_normalizer-3.4.2-cp39-cp39-manylinux_2_17_x86_64.manylinux2014_x86_64.whl.metadata (35 kB)\nCollecting idna<4,>=2.5 (from requests>=1.25.8->bgen_reader==4.0.7->snipar==0.0.22)\n  Using cached idna-3.10-py3-none-any.whl.metadata (10 kB)\nCollecting certifi>=2017.4.17 (from requests>=1.25.8->bgen_reader==4.0.7->snipar==0.0.22)\n  Using cached certifi-2025.7.14-py3-none-any.whl.metadata (2.4 kB)\nINFO: pip is looking at multiple versions of xarray to determine which version is compatible with other requirements. This could take a while.\nCollecting xarray>=0.16.0 (from bgen_reader==4.0.7->snipar==0.0.22)\n  Downloading xarray-2024.6.0-py3-none-any.whl.metadata (11 kB)\n  Downloading xarray-2024.5.0-py3-none-any.whl.metadata (11 kB)\n  Downloading xarray-2024.3.0-py3-none-any.whl.metadata (11 kB)\n  Downloading xarray-2024.2.0-py3-none-any.whl.metadata (11 kB)\n  Downloading xarray-2024.1.1-py3-none-any.whl.metadata (11 kB)\n  Downloading xarray-2024.1.0-py3-none-any.whl.metadata (11 kB)\n  Downloading xarray-2023.12.0-py3-none-any.whl.metadata (11 kB)\nINFO: pip is still looking at multiple versions of xarray to determine which version is compatible with other requirements. This could take a while.\n  Downloading xarray-2023.11.0-py3-none-any.whl.metadata (11 kB)\n  Downloading xarray-2023.10.1-py3-none-any.whl.metadata (10 kB)\n  Downloading xarray-2023.10.0-py3-none-any.whl.metadata (10 kB)\n  Downloading xarray-2023.9.0-py3-none-any.whl.metadata (10 kB)\n  Downloading xarray-2023.8.0-py3-none-any.whl.metadata (6.0 kB)\nINFO: This is taking longer than usual. You might need to provide the dependency resolver with stricter constraints to reduce runtime. See https://pip.pypa.io/warnings/backtracking for guidance. If you want to abort this run, press Ctrl + C.\n  Downloading xarray-2023.7.0-py3-none-any.whl.metadata (6.0 kB)\n  Downloading xarray-2023.6.0-py3-none-any.whl.metadata (6.0 kB)\n  Downloading xarray-2023.5.0-py3-none-any.whl.metadata (6.0 kB)\n  Downloading xarray-2023.4.2-py3-none-any.whl.metadata (6.0 kB)\n  Downloading xarray-2023.4.1-py3-none-any.whl.metadata (6.0 kB)\n  Downloading xarray-2023.4.0-py3-none-any.whl.metadata (6.0 kB)\n  Downloading xarray-2023.3.0-py3-none-any.whl.metadata (6.2 kB)\n  Downloading xarray-2023.2.0-py3-none-any.whl.metadata (6.2 kB)\n  Downloading xarray-2023.1.0-py3-none-any.whl.metadata (6.2 kB)\n  Downloading xarray-2022.12.0-py3-none-any.whl.metadata (6.2 kB)\n  Downloading xarray-2022.11.0-py3-none-any.whl.metadata (6.2 kB)\n  Downloading xarray-2022.10.0-py3-none-any.whl.metadata (6.2 kB)\n  Downloading xarray-2022.9.0-py3-none-any.whl.metadata (6.2 kB)\n  Downloading xarray-2022.6.0-py3-none-any.whl.metadata (6.1 kB)\n  Downloading xarray-2022.3.0-py3-none-any.whl.metadata (6.0 kB)\nCollecting pycparser (from cffi->cbgen>=1.0.0->bgen_reader==4.0.7->snipar==0.0.22)\n  Downloading pycparser-2.22-py3-none-any.whl.metadata (943 bytes)\nCollecting zipp>=3.20 (from importlib-metadata>=4.13.0->dask>=2.12.0->dask[array,bag,dataframe,delayed]>=2.12.0->bgen_reader==4.0.7->snipar==0.0.22)\n  Downloading zipp-3.23.0-py3-none-any.whl.metadata (3.6 kB)\nDownloading bgen_reader-4.0.7-py3-none-any.whl (44 kB)\nDownloading GitPython-3.1.24-py3-none-any.whl (180 kB)\nDownloading h5py-3.6.0-cp39-cp39-manylinux_2_12_x86_64.manylinux2010_x86_64.whl (4.5 MB)\n\u001B[2K   \u001B[90m━━━━━━━━━━━━━━━━━━━━━━━━━━━━━━━━━━━━━━━━\u001B[0m \u001B[32m4.5/4.5 MB\u001B[0m \u001B[31m94.2 MB/s\u001B[0m eta \u001B[36m0:00:00\u001B[0m\n\u001B[?25hDownloading networkx-2.5-py3-none-any.whl (1.6 MB)\n\u001B[2K   \u001B[90m━━━━━━━━━━━━━━━━━━━━━━━━━━━━━━━━━━━━━━━━\u001B[0m \u001B[32m1.6/1.6 MB\u001B[0m \u001B[31m75.7 MB/s\u001B[0m eta \u001B[36m0:00:00\u001B[0m\n\u001B[?25hDownloading numba-0.55.0-cp39-cp39-manylinux2014_x86_64.manylinux_2_17_x86_64.whl (3.3 MB)\n\u001B[2K   \u001B[90m━━━━━━━━━━━━━━━━━━━━━━━━━━━━━━━━━━━━━━━━\u001B[0m \u001B[32m3.3/3.3 MB\u001B[0m \u001B[31m117.9 MB/s\u001B[0m eta \u001B[36m0:00:00\u001B[0m\n\u001B[?25hUsing cached numpy-1.21.1-cp39-cp39-manylinux_2_12_x86_64.manylinux2010_x86_64.whl (15.8 MB)\nDownloading pandas-1.1.4-cp39-cp39-manylinux1_x86_64.whl (9.3 MB)\n\u001B[2K   \u001B[90m━━━━━━━━━━━━━━━━━━━━━━━━━━━━━━━━━━━━━━━━\u001B[0m \u001B[32m9.3/9.3 MB\u001B[0m \u001B[31m105.2 MB/s\u001B[0m eta \u001B[36m0:00:00\u001B[0m\n\u001B[?25hDownloading pooch-1.5.1-py3-none-any.whl (57 kB)\nDownloading scikit_learn-1.0.2-cp39-cp39-manylinux_2_17_x86_64.manylinux2014_x86_64.whl (26.4 MB)\n\u001B[2K   \u001B[90m━━━━━━━━━━━━━━━━━━━━━━━━━━━━━━━━━━━━━━━━\u001B[0m \u001B[32m26.4/26.4 MB\u001B[0m \u001B[31m124.8 MB/s\u001B[0m eta \u001B[36m0:00:00\u001B[0m00:01\u001B[0m\n\u001B[?25hDownloading scipy-1.7.1-cp39-cp39-manylinux_2_5_x86_64.manylinux1_x86_64.whl (28.5 MB)\n\u001B[2K   \u001B[90m━━━━━━━━━━━━━━━━━━━━━━━━━━━━━━━━━━━━━━━━\u001B[0m \u001B[32m28.5/28.5 MB\u001B[0m \u001B[31m117.5 MB/s\u001B[0m eta \u001B[36m0:00:00\u001B[0m00:01\u001B[0m\n\u001B[?25hDownloading statsmodels-0.13.2-cp39-cp39-manylinux_2_17_x86_64.manylinux2014_x86_64.whl (9.9 MB)\n\u001B[2K   \u001B[90m━━━━━━━━━━━━━━━━━━━━━━━━━━━━━━━━━━━━━━━━\u001B[0m \u001B[32m9.9/9.9 MB\u001B[0m \u001B[31m123.9 MB/s\u001B[0m eta \u001B[36m0:00:00\u001B[0m\n\u001B[?25hDownloading gitdb-4.0.12-py3-none-any.whl (62 kB)\nDownloading llvmlite-0.38.1-cp39-cp39-manylinux_2_17_x86_64.manylinux2014_x86_64.whl (34.5 MB)\n\u001B[2K   \u001B[90m━━━━━━━━━━━━━━━━━━━━━━━━━━━━━━━━━━━━━━━━\u001B[0m \u001B[32m34.5/34.5 MB\u001B[0m \u001B[31m82.8 MB/s\u001B[0m eta \u001B[36m0:00:00\u001B[0m00:01\u001B[0m:00:01\u001B[0m\n\u001B[?25hDownloading smmap-5.0.2-py3-none-any.whl (24 kB)\nDownloading appdirs-1.4.4-py2.py3-none-any.whl (9.6 kB)\nDownloading cachetools-6.1.0-py3-none-any.whl (11 kB)\nDownloading cbgen-1.0.5-cp39-cp39-manylinux_2_17_x86_64.manylinux2014_x86_64.whl (203 kB)\nDownloading click-8.1.8-py3-none-any.whl (98 kB)\nDownloading cloudpickle-3.1.1-py3-none-any.whl (20 kB)\nDownloading dask-2023.2.0-py3-none-any.whl (1.2 MB)\n\u001B[2K   \u001B[90m━━━━━━━━━━━━━━━━━━━━━━━━━━━━━━━━━━━━━━━━\u001B[0m \u001B[32m1.2/1.2 MB\u001B[0m \u001B[31m50.9 MB/s\u001B[0m eta \u001B[36m0:00:00\u001B[0m\n\u001B[?25hDownloading decorator-5.2.1-py3-none-any.whl (9.2 kB)\nDownloading dill-0.4.0-py3-none-any.whl (119 kB)\nDownloading fsspec-2025.7.0-py3-none-any.whl (199 kB)\nDownloading joblib-1.5.1-py3-none-any.whl (307 kB)\nDownloading more_itertools-10.7.0-py3-none-any.whl (65 kB)\nDownloading numdifftools-0.9.41-py2.py3-none-any.whl (100 kB)\nDownloading packaging-25.0-py3-none-any.whl (66 kB)\nDownloading partd-1.4.2-py3-none-any.whl (18 kB)\nDownloading patsy-1.0.1-py2.py3-none-any.whl (232 kB)\nDownloading psutil-7.0.0-cp36-abi3-manylinux_2_12_x86_64.manylinux2010_x86_64.manylinux_2_17_x86_64.manylinux2014_x86_64.whl (277 kB)\nDownloading pytest-8.4.1-py3-none-any.whl (365 kB)\nDownloading pluggy-1.6.0-py3-none-any.whl (20 kB)\nUsing cached exceptiongroup-1.3.0-py3-none-any.whl (16 kB)\nDownloading iniconfig-2.1.0-py3-none-any.whl (6.0 kB)\nDownloading pygments-2.19.2-py3-none-any.whl (1.2 MB)\n\u001B[2K   \u001B[90m━━━━━━━━━━━━━━━━━━━━━━━━━━━━━━━━━━━━━━━━\u001B[0m \u001B[32m1.2/1.2 MB\u001B[0m \u001B[31m57.3 MB/s\u001B[0m eta \u001B[36m0:00:00\u001B[0m\n\u001B[?25hDownloading pytest_runner-6.0.1-py3-none-any.whl (7.2 kB)\nDownloading python_dateutil-2.9.0.post0-py2.py3-none-any.whl (229 kB)\nDownloading pytz-2025.2-py2.py3-none-any.whl (509 kB)\nDownloading PyYAML-6.0.2-cp39-cp39-manylinux_2_17_x86_64.manylinux2014_x86_64.whl (737 kB)\n\u001B[2K   \u001B[90m━━━━━━━━━━━━━━━━━━━━━━━━━━━━━━━━━━━━━━━━\u001B[0m \u001B[32m737.4/737.4 kB\u001B[0m \u001B[31m36.3 MB/s\u001B[0m eta \u001B[36m0:00:00\u001B[0m\n\u001B[?25hDownloading requests-2.32.4-py3-none-any.whl (64 kB)\nDownloading charset_normalizer-3.4.2-cp39-cp39-manylinux_2_17_x86_64.manylinux2014_x86_64.whl (149 kB)\nUsing cached idna-3.10-py3-none-any.whl (70 kB)\nDownloading urllib3-2.5.0-py3-none-any.whl (129 kB)\nUsing cached certifi-2025.7.14-py3-none-any.whl (162 kB)\nDownloading six-1.17.0-py2.py3-none-any.whl (11 kB)\nDownloading texttable-1.7.0-py2.py3-none-any.whl (10 kB)\nDownloading threadpoolctl-3.6.0-py3-none-any.whl (18 kB)\nUsing cached tomli-2.2.1-py3-none-any.whl (14 kB)\nDownloading toolz-1.0.0-py3-none-any.whl (56 kB)\nUsing cached tqdm-4.67.1-py3-none-any.whl (78 kB)\nUsing cached typing_extensions-4.14.1-py3-none-any.whl (43 kB)\nDownloading xarray-2022.3.0-py3-none-any.whl (870 kB)\n\u001B[2K   \u001B[90m━━━━━━━━━━━━━━━━━━━━━━━━━━━━━━━━━━━━━━━━\u001B[0m \u001B[32m870.9/870.9 kB\u001B[0m \u001B[31m39.0 MB/s\u001B[0m eta \u001B[36m0:00:00\u001B[0m\n\u001B[?25hDownloading cffi-1.17.1-cp39-cp39-manylinux_2_17_x86_64.manylinux2014_x86_64.whl (445 kB)\nDownloading locket-1.0.0-py2.py3-none-any.whl (4.4 kB)\nDownloading pycparser-2.22-py3-none-any.whl (117 kB)\nBuilding wheels for collected packages: snipar, pysnptools, bed-reader\n  Building wheel for snipar (pyproject.toml) ... \u001B[?25ldone\n\u001B[?25h  Created wheel for snipar: filename=snipar-0.0.22-cp39-cp39-linux_x86_64.whl size=53784083 sha256=b95968287c28feafbcaf7a47cacb0eb65bebcc82b893928bbbfccb2c77cf7978\n  Stored in directory: /tmp/pip-ephem-wheel-cache-f7h1z5o4/wheels/97/04/40/f535f098352d230c4c8bb88b4180ebceb495bc019f37632685\n  Building wheel for pysnptools (pyproject.toml) ... \u001B[?25ldone\n\u001B[?25h  Created wheel for pysnptools: filename=pysnptools-0.5.3-py3-none-any.whl size=273585 sha256=77fff8f53e8528e421e2e67867c5d972c00b639061d34bc249924b59790cdcf8\n  Stored in directory: /home/dnanexus/.cache/pip/wheels/cb/e1/20/12a20270329b9bc869e5838455850825e55da59b7657342ec8\n  Building wheel for bed-reader (pyproject.toml) ... \u001B[?25ldone\n\u001B[?25h  Created wheel for bed-reader: filename=bed_reader-1.0.6-cp39-cp39-linux_x86_64.whl size=6290062 sha256=19cb854de6b27d6cdce65e8b4bf17a26e8ae6f7eef784bcb8fe1347c1bf7d55b\n  Stored in directory: /home/dnanexus/.cache/pip/wheels/1d/a9/1b/f20a965ff8683c27c92902eafb9742ac2900ed342263db4094\nSuccessfully built snipar pysnptools bed-reader\nInstalling collected packages: texttable, pytz, appdirs, urllib3, typing-extensions, tqdm, toolz, tomli, threadpoolctl, smmap, six, pyyaml, pytest-runner, pygments, pycparser, psutil, pluggy, packaging, numpy, more-itertools, locket, llvmlite, joblib, iniconfig, idna, fsspec, dill, decorator, cloudpickle, click, charset_normalizer, certifi, cachetools, scipy, requests, python-dateutil, patsy, partd, numba, networkx, h5py, gitdb, exceptiongroup, cffi, bed-reader, scikit-learn, pytest, pooch, pandas, numdifftools, gitpython, dask, xarray, statsmodels, cbgen, bgen_reader, pysnptools, snipar\n\u001B[2K   \u001B[90m━━━━━━━━━━━━━━━━━━━━━━━━━━━━━━━━━━━━━━━━\u001B[0m \u001B[32m58/58\u001B[0m [snipar] [snipar] [pysnptools]]]\n\u001B[1A\u001B[2KSuccessfully installed appdirs-1.4.4 bed-reader-1.0.6 bgen_reader-4.0.7 cachetools-6.1.0 cbgen-1.0.5 certifi-2025.7.14 cffi-1.17.1 charset_normalizer-3.4.2 click-8.1.8 cloudpickle-3.1.1 dask-2023.2.0 decorator-5.2.1 dill-0.4.0 exceptiongroup-1.3.0 fsspec-2025.7.0 gitdb-4.0.12 gitpython-3.1.24 h5py-3.6.0 idna-3.10 iniconfig-2.1.0 joblib-1.5.1 llvmlite-0.38.1 locket-1.0.0 more-itertools-10.7.0 networkx-2.5 numba-0.55.0 numdifftools-0.9.41 numpy-1.21.1 packaging-25.0 pandas-1.1.4 partd-1.4.2 patsy-1.0.1 pluggy-1.6.0 pooch-1.5.1 psutil-7.0.0 pycparser-2.22 pygments-2.19.2 pysnptools-0.5.3 pytest-8.4.1 pytest-runner-6.0.1 python-dateutil-2.9.0.post0 pytz-2025.2 pyyaml-6.0.2 requests-2.32.4 scikit-learn-1.0.2 scipy-1.7.1 six-1.17.0 smmap-5.0.2 snipar-0.0.22 statsmodels-0.13.2 texttable-1.7.0 threadpoolctl-3.6.0 tomli-2.2.1 toolz-1.0.0 tqdm-4.67.1 typing-extensions-4.14.1 urllib3-2.5.0 xarray-2022.3.0\n\u001B[33mWARNING: Running pip as the 'root' user can result in broken permissions and conflicting behaviour with the system package manager, possibly rendering your system unusable. It is recommended to use a virtual environment instead: https://pip.pypa.io/warnings/venv. Use the --root-user-action option if you know what you are doing and want to suppress this warning.\u001B[0m\u001B[33m\n\u001B[0m\n",
     "output_type": "stream"
    }
   ]
  },
  {
   "cell_type": "code",
   "source": "# test if snipar is installed\nibd.py",
   "metadata": {
    "trusted": true,
    "tags": []
   },
   "execution_count": 17,
   "outputs": [
    {
     "name": "stdout",
     "text": "Number of threads: 16\nTraceback (most recent call last):\n  File \"/opt/conda/envs/py39/bin/ibd.py\", line 180, in <module>\n    main(args)\n  File \"/opt/conda/envs/py39/bin/ibd.py\", line 81, in main\n    raise(ValueError('Must provide one of --bedfiles and --bgenfiles'))\nValueError: Must provide one of --bedfiles and --bgenfiles\n",
     "output_type": "stream"
    },
    {
     "ename": "",
     "evalue": "1",
     "traceback": [],
     "output_type": "error"
    }
   ]
  },
  {
   "cell_type": "markdown",
   "source": "- It seems it is installed",
   "metadata": {}
  },
  {
   "cell_type": "markdown",
   "source": "# Save current container to use it later with Jupyterlab",
   "metadata": {}
  },
  {
   "cell_type": "code",
   "source": "cd $NB_WD\nls",
   "metadata": {
    "trusted": true,
    "tags": []
   },
   "execution_count": 24,
   "outputs": [
    {
     "name": "stdout",
     "text": "snipar\n",
     "output_type": "stream"
    }
   ]
  },
  {
   "cell_type": "code",
   "source": "rm -rf snipar\nls",
   "metadata": {
    "trusted": true,
    "tags": []
   },
   "execution_count": 34,
   "outputs": []
  },
  {
   "cell_type": "code",
   "source": "docker ps",
   "metadata": {
    "trusted": true,
    "tags": []
   },
   "execution_count": 37,
   "outputs": [
    {
     "name": "stdout",
     "text": "CONTAINER ID   IMAGE                           COMMAND                  CREATED          STATUS          PORTS                                     NAMES\n1541cde996c0   dnanexus/dxjupyterlab-r:5.0.2   \"/opt/start_jupyterl…\"   59 minutes ago   Up 59 minutes   0.0.0.0:443->8888/tcp, :::443->8888/tcp   dxjupyterlab_server\n",
     "output_type": "stream"
    }
   ]
  },
  {
   "cell_type": "code",
   "source": "docker commit 1541cde996c0 my_saved_image:latest",
   "metadata": {
    "trusted": true,
    "tags": []
   },
   "execution_count": null,
   "outputs": []
  },
  {
   "cell_type": "code",
   "source": "docker images",
   "metadata": {
    "trusted": true,
    "tags": []
   },
   "execution_count": 46,
   "outputs": [
    {
     "name": "stdout",
     "text": "REPOSITORY                TAG       IMAGE ID       CREATED          SIZE\nmy_saved_image            latest    5704740a7572   20 minutes ago   8.31GB\ndnanexus/dxjupyterlab-r   5.0.2     cf717655395f   4 weeks ago      7.23GB\n",
     "output_type": "stream"
    }
   ]
  },
  {
   "cell_type": "code",
   "source": "docker save --help",
   "metadata": {
    "trusted": true,
    "tags": []
   },
   "execution_count": 47,
   "outputs": [
    {
     "name": "stdout",
     "text": "\nUsage:  docker save [OPTIONS] IMAGE [IMAGE...]\n\nSave one or more images to a tar archive (streamed to STDOUT by default)\n\nAliases:\n  docker image save, docker save\n\nOptions:\n  -o, --output string   Write to a file, instead of STDOUT\n",
     "output_type": "stream"
    }
   ]
  },
  {
   "cell_type": "code",
   "source": "docker save my_saved_image --output image",
   "metadata": {
    "trusted": true,
    "tags": []
   },
   "execution_count": 54,
   "outputs": []
  },
  {
   "cell_type": "code",
   "source": "ls",
   "metadata": {
    "trusted": true,
    "tags": []
   },
   "execution_count": 56,
   "outputs": [
    {
     "name": "stdout",
     "text": "image\n",
     "output_type": "stream"
    }
   ]
  },
  {
   "cell_type": "code",
   "source": "# rename the image\nmv image B1_docker_image__py39InConda_snipar",
   "metadata": {
    "trusted": true,
    "tags": []
   },
   "execution_count": 60,
   "outputs": []
  },
  {
   "cell_type": "code",
   "source": "# compress the image, create a .tar.gz file\ntar -czf B1_docker_image__py39InConda_snipar.tar.gz B1_docker_image__py39InConda_snipar",
   "metadata": {
    "trusted": true,
    "tags": []
   },
   "execution_count": 65,
   "outputs": []
  },
  {
   "cell_type": "code",
   "source": "# save the image to WGS v2 project for future use\ndx upload B1_docker_image__py39InConda_snipar.tar.gz",
   "metadata": {
    "trusted": true,
    "tags": []
   },
   "execution_count": 66,
   "outputs": [
    {
     "name": "stdout",
     "text": "[===========================================================>] Uploaded 3,559,364,071 of 3,559,364,071 bytes (100%) B1_docker_image__py39InConda_snipar.tar.gz\nID                                file-J1vkkj0JQp6pYVx5pQ8FgQJ1\nClass                             file\nProject                           project-J1VzYJQJQp6z67g2f0Vvb2kK\nFolder                            /\nName                              B1_docker_image__py39InConda_snipar.tar.gz\nState                             \u001B[33mclosing\u001B[0m\nVisibility                        visible\nTypes                             -\nProperties                        -\nTags                              -\nOutgoing links                    -\nCreated                           Fri Jul 18 01:01:20 2025\nCreated by                        mahdimir\n via the job                      job-J1vgb1jJQp6xyyFf4001yjPp\nLast modified                     Fri Jul 18 01:01:27 2025\nMedia type                        \narchivalState                     \"live\"\ncloudAccount                      \"cloudaccount-dnanexus\"\n",
     "output_type": "stream"
    }
   ]
  },
  {
   "cell_type": "code",
   "source": "ls",
   "metadata": {
    "trusted": true,
    "tags": [],
    "ExecuteTime": {
     "end_time": "2025-07-18T03:02:30.758578Z",
     "start_time": "2025-07-18T03:02:30.643160Z"
    }
   },
   "outputs": [
    {
     "name": "stdout",
     "output_type": "stream",
     "text": [
      "LICENSE                   \u001B[0m\u001B[01;32mjob-J1vpJkjJQp6V9VFkPFPq74qG\u001B[0m*         \u001B[01;32mplink\u001B[0m*\r\n",
      "\u001B[01;34mPycharmProjects\u001B[0m/          job-J1vpJkjJQp6V9VFkPFPq74qG.code.py  plink.log\r\n",
      "dnanexus-executable.json  job_error_reserved_space              \u001B[01;32mprettify\u001B[0m*\r\n",
      "dnanexus-job.json         job_input.json                        toy.map\r\n",
      "dx_stderr                 \u001B[01;32mking\u001B[0m*                                 toy.ped\r\n",
      "dx_stdout                 \u001B[01;34mminiconda\u001B[0m/\r\n",
      "environment               miniconda.sh\r\n"
     ]
    }
   ],
   "execution_count": 1
  },
  {
   "cell_type": "code",
   "source": "",
   "metadata": {},
   "execution_count": null,
   "outputs": []
  },
  {
   "metadata": {},
   "cell_type": "markdown",
   "source": "this try was unsuccessful, because the image coudln't be loaded again into another jupyter notebook, I did many tries but it didn't work."
  }
 ]
}
